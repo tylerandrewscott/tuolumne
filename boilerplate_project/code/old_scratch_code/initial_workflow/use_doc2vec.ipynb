{
 "cells": [
  {
   "cell_type": "code",
   "execution_count": 43,
   "metadata": {},
   "outputs": [],
   "source": [
    "import numpy\n",
    "from gensim.test.utils import common_texts\n",
    "from gensim.models.doc2vec import Doc2Vec, TaggedDocument\n",
    "model = Doc2Vec.load('nepa_doc2vec_model')\n",
    "model.delete_temporary_training_data(keep_doctags_vectors=True,keep_inference = True)\n",
    "\n",
    "\n",
    "import os.path\n",
    "import gensim\n",
    "import pandas as pd\n",
    "from gensim.test.utils import common_texts\n",
    "from gensim.models.doc2vec import Doc2Vec, TaggedDocument\n",
    "\n",
    "index_dir = os.path.join('../../../scratch/boilerplate/big_text_files')\n",
    "\n",
    "lda_results = pd.read_csv('../../../scratch/boilerplate/lda_combo_results_V2.csv')\n",
    "lda_results = lda_results[lda_results['score']>=400]\n",
    "lda_results = lda_results[lda_results['a_id']!=lda_results['b_id']]\n",
    "\n",
    "lda_results['a_id'] = [str(i) for i in lda_results['a_id']]\n",
    "lda_results['b_id'] = [str(i) for i in lda_results['b_id']]\n",
    "\n",
    "a_is_eis = lda_results['a_id'].str.contains(r'^[0-9]{8}')\n",
    "b_is_eis = lda_results['b_id'].str.contains(r'^[0-9]{8}')\n",
    "lda_eis_results = lda_results[a_is_eis & b_is_eis]\n",
    "\n",
    "\n",
    "doe_meta = pd.read_csv(os.path.join(index_dir, 'big_doe_metadata.txt'),header = None)\n",
    "import re\n",
    "doe_meta['PROJECT_ID'] = [re.sub(r'(--|_).*','',id) for id in doe_meta[0]]\n",
    "usfs_meta = pd.read_csv(os.path.join(index_dir, 'big_usfs_metadata.txt'),header = None)\n",
    "usfs_meta['PROJECT_ID'] = [re.sub(r'(--|_).*','',id) for id in usfs_meta[0]]\n",
    "blm_meta = pd.read_csv(os.path.join(index_dir, 'big_blm_metadata.txt'),header = None)\n",
    "blm_meta['PROJECT_ID'] = [re.sub(r'(--|_).*','',id) for id in blm_meta[0]]\n",
    "eis_meta = pd.read_csv(os.path.join(index_dir, 'big_eis_metadata.txt'),header = None)\n",
    "eis_meta['PROJECT_ID'] = [re.sub(r'(--|_).*','',id) for id in eis_meta[0]]\n",
    "meta_corpus = blm_meta.append(doe_meta).append(eis_meta).append(usfs_meta)\n",
    "meta_corpus.index = range(meta_corpus.shape[0])\n",
    "\n",
    "meta_corpus['page'] = [str(s) for s in meta_corpus[1]]\n",
    "meta_corpus['id'] = meta_corpus.PROJECT_ID +'--'+meta_corpus[0]+'--'+ meta_corpus.page\n",
    "meta_corpus['id'] = meta_corpus['id'].str.replace(r\"(.+-{2})\\1\",r\"\\1\")\n",
    "\n",
    "corp_id = [id for id in meta_corpus.id]\n",
    "pages_in_eis400_lda = meta_corpus['id'].isin(lda_eis_results['a'])|meta_corpus['id'].isin(lda_eis_results['b'])\n",
    "\n",
    "# Set file names for train and test data\n",
    "data_dir = os.path.join('scratch/boilerplate/big_text_files')\n",
    "doe_file = os.path.join(data_dir, 'big_doe_text_only.txt')\n",
    "usfs_file = os.path.join(data_dir, 'big_usfs_text_only.txt')\n",
    "blm_file = os.path.join(data_dir, 'big_blm_text_only.txt')\n",
    "eis_file = os.path.join(data_dir, 'big_eis_text_only.txt')\n",
    "\n",
    "import smart_open\n",
    "\n",
    "def read_corpus(fname, tokens_only=False,lines_are_documents=True,tag = 'doc',meta = [],maxrow = float(\"inf\")):\n",
    "    with smart_open.open(fname, encoding=\"iso-8859-1\") as f:\n",
    "        for i, line in enumerate(f):\n",
    "            if i>= maxrow: break\n",
    "            tokens = gensim.utils.simple_preprocess(line)\n",
    "            if tokens_only:\n",
    "                yield tokens\n",
    "            else:\n",
    "                # version that makes id tag for page\n",
    "                #yield gensim.models.doc2vec.TaggedDocument(tokens, [tag,meta['PROJECT_ID'][i],i])\n",
    "                # For training data, add tags\n",
    "                yield gensim.models.doc2vec.TaggedDocument(tokens, [tag,meta['PROJECT_ID'][i]])\n",
    "\n",
    "\n",
    "blm_corpus = list(read_corpus(blm_file,tag = 'blm',meta = blm_meta))\n",
    "doe_corpus = list(read_corpus(doe_file,tag = 'doe',meta = doe_meta))\n",
    "eis_corpus = list(read_corpus(eis_file,tag = 'eis',meta = eis_meta))\n",
    "usfs_corpus = list(read_corpus(usfs_file,tag = 'usfs',meta = usfs_meta))\n",
    "\n",
    "train_corpus = blm_corpus + doe_corpus + eis_corpus + usfs_corpus \n"
   ]
  },
  {
   "cell_type": "code",
   "execution_count": 104,
   "metadata": {},
   "outputs": [],
   "source": [
    "pages_in_eis400_lda = meta_corpus['id'].isin(lda_eis_results['a'])|meta_corpus['id'].isin(lda_eis_results['b'])"
   ]
  },
  {
   "cell_type": "code",
   "execution_count": 106,
   "metadata": {},
   "outputs": [],
   "source": [
    "eis400_ldacorpus = meta_corpus[pages_in_eis400_lda]"
   ]
  },
  {
   "cell_type": "code",
   "execution_count": 97,
   "metadata": {},
   "outputs": [
    {
     "ename": "TypeError",
     "evalue": "unhashable type: 'list'",
     "output_type": "error",
     "traceback": [
      "\u001b[0;31m---------------------------------------------------------------------------\u001b[0m",
      "\u001b[0;31mTypeError\u001b[0m                                 Traceback (most recent call last)",
      "\u001b[0;32m<ipython-input-97-3c63da3fd82c>\u001b[0m in \u001b[0;36m<module>\u001b[0;34m\u001b[0m\n\u001b[0;32m----> 1\u001b[0;31m \u001b[0mlda_eis_results\u001b[0m\u001b[0;34m[\u001b[0m\u001b[0;34m'a'\u001b[0m\u001b[0;34m]\u001b[0m\u001b[0;34m.\u001b[0m\u001b[0mstr\u001b[0m\u001b[0;34m.\u001b[0m\u001b[0mmatch\u001b[0m\u001b[0;34m(\u001b[0m\u001b[0mcorpus_id_list\u001b[0m\u001b[0;34m)\u001b[0m\u001b[0;34m\u001b[0m\u001b[0;34m\u001b[0m\u001b[0m\n\u001b[0m",
      "\u001b[0;32m/usr/local/lib/python3.7/site-packages/pandas/core/strings.py\u001b[0m in \u001b[0;36mwrapper\u001b[0;34m(self, *args, **kwargs)\u001b[0m\n\u001b[1;32m   1950\u001b[0m                 )\n\u001b[1;32m   1951\u001b[0m                 \u001b[0;32mraise\u001b[0m \u001b[0mTypeError\u001b[0m\u001b[0;34m(\u001b[0m\u001b[0mmsg\u001b[0m\u001b[0;34m)\u001b[0m\u001b[0;34m\u001b[0m\u001b[0;34m\u001b[0m\u001b[0m\n\u001b[0;32m-> 1952\u001b[0;31m             \u001b[0;32mreturn\u001b[0m \u001b[0mfunc\u001b[0m\u001b[0;34m(\u001b[0m\u001b[0mself\u001b[0m\u001b[0;34m,\u001b[0m \u001b[0;34m*\u001b[0m\u001b[0margs\u001b[0m\u001b[0;34m,\u001b[0m \u001b[0;34m**\u001b[0m\u001b[0mkwargs\u001b[0m\u001b[0;34m)\u001b[0m\u001b[0;34m\u001b[0m\u001b[0;34m\u001b[0m\u001b[0m\n\u001b[0m\u001b[1;32m   1953\u001b[0m \u001b[0;34m\u001b[0m\u001b[0m\n\u001b[1;32m   1954\u001b[0m         \u001b[0mwrapper\u001b[0m\u001b[0;34m.\u001b[0m\u001b[0m__name__\u001b[0m \u001b[0;34m=\u001b[0m \u001b[0mfunc_name\u001b[0m\u001b[0;34m\u001b[0m\u001b[0;34m\u001b[0m\u001b[0m\n",
      "\u001b[0;32m/usr/local/lib/python3.7/site-packages/pandas/core/strings.py\u001b[0m in \u001b[0;36mmatch\u001b[0;34m(self, pat, case, flags, na)\u001b[0m\n\u001b[1;32m   2766\u001b[0m     \u001b[0;34m@\u001b[0m\u001b[0mforbid_nonstring_types\u001b[0m\u001b[0;34m(\u001b[0m\u001b[0;34m[\u001b[0m\u001b[0;34m\"bytes\"\u001b[0m\u001b[0;34m]\u001b[0m\u001b[0;34m)\u001b[0m\u001b[0;34m\u001b[0m\u001b[0;34m\u001b[0m\u001b[0m\n\u001b[1;32m   2767\u001b[0m     \u001b[0;32mdef\u001b[0m \u001b[0mmatch\u001b[0m\u001b[0;34m(\u001b[0m\u001b[0mself\u001b[0m\u001b[0;34m,\u001b[0m \u001b[0mpat\u001b[0m\u001b[0;34m,\u001b[0m \u001b[0mcase\u001b[0m\u001b[0;34m=\u001b[0m\u001b[0;32mTrue\u001b[0m\u001b[0;34m,\u001b[0m \u001b[0mflags\u001b[0m\u001b[0;34m=\u001b[0m\u001b[0;36m0\u001b[0m\u001b[0;34m,\u001b[0m \u001b[0mna\u001b[0m\u001b[0;34m=\u001b[0m\u001b[0mnp\u001b[0m\u001b[0;34m.\u001b[0m\u001b[0mnan\u001b[0m\u001b[0;34m)\u001b[0m\u001b[0;34m:\u001b[0m\u001b[0;34m\u001b[0m\u001b[0;34m\u001b[0m\u001b[0m\n\u001b[0;32m-> 2768\u001b[0;31m         \u001b[0mresult\u001b[0m \u001b[0;34m=\u001b[0m \u001b[0mstr_match\u001b[0m\u001b[0;34m(\u001b[0m\u001b[0mself\u001b[0m\u001b[0;34m.\u001b[0m\u001b[0m_parent\u001b[0m\u001b[0;34m,\u001b[0m \u001b[0mpat\u001b[0m\u001b[0;34m,\u001b[0m \u001b[0mcase\u001b[0m\u001b[0;34m=\u001b[0m\u001b[0mcase\u001b[0m\u001b[0;34m,\u001b[0m \u001b[0mflags\u001b[0m\u001b[0;34m=\u001b[0m\u001b[0mflags\u001b[0m\u001b[0;34m,\u001b[0m \u001b[0mna\u001b[0m\u001b[0;34m=\u001b[0m\u001b[0mna\u001b[0m\u001b[0;34m)\u001b[0m\u001b[0;34m\u001b[0m\u001b[0;34m\u001b[0m\u001b[0m\n\u001b[0m\u001b[1;32m   2769\u001b[0m         \u001b[0;32mreturn\u001b[0m \u001b[0mself\u001b[0m\u001b[0;34m.\u001b[0m\u001b[0m_wrap_result\u001b[0m\u001b[0;34m(\u001b[0m\u001b[0mresult\u001b[0m\u001b[0;34m,\u001b[0m \u001b[0mfill_value\u001b[0m\u001b[0;34m=\u001b[0m\u001b[0mna\u001b[0m\u001b[0;34m,\u001b[0m \u001b[0mreturns_string\u001b[0m\u001b[0;34m=\u001b[0m\u001b[0;32mFalse\u001b[0m\u001b[0;34m)\u001b[0m\u001b[0;34m\u001b[0m\u001b[0;34m\u001b[0m\u001b[0m\n\u001b[1;32m   2770\u001b[0m \u001b[0;34m\u001b[0m\u001b[0m\n",
      "\u001b[0;32m/usr/local/lib/python3.7/site-packages/pandas/core/strings.py\u001b[0m in \u001b[0;36mstr_match\u001b[0;34m(arr, pat, case, flags, na)\u001b[0m\n\u001b[1;32m    817\u001b[0m         \u001b[0mflags\u001b[0m \u001b[0;34m|=\u001b[0m \u001b[0mre\u001b[0m\u001b[0;34m.\u001b[0m\u001b[0mIGNORECASE\u001b[0m\u001b[0;34m\u001b[0m\u001b[0;34m\u001b[0m\u001b[0m\n\u001b[1;32m    818\u001b[0m \u001b[0;34m\u001b[0m\u001b[0m\n\u001b[0;32m--> 819\u001b[0;31m     \u001b[0mregex\u001b[0m \u001b[0;34m=\u001b[0m \u001b[0mre\u001b[0m\u001b[0;34m.\u001b[0m\u001b[0mcompile\u001b[0m\u001b[0;34m(\u001b[0m\u001b[0mpat\u001b[0m\u001b[0;34m,\u001b[0m \u001b[0mflags\u001b[0m\u001b[0;34m=\u001b[0m\u001b[0mflags\u001b[0m\u001b[0;34m)\u001b[0m\u001b[0;34m\u001b[0m\u001b[0;34m\u001b[0m\u001b[0m\n\u001b[0m\u001b[1;32m    820\u001b[0m \u001b[0;34m\u001b[0m\u001b[0m\n\u001b[1;32m    821\u001b[0m     \u001b[0mdtype\u001b[0m \u001b[0;34m=\u001b[0m \u001b[0mbool\u001b[0m\u001b[0;34m\u001b[0m\u001b[0;34m\u001b[0m\u001b[0m\n",
      "\u001b[0;32m/usr/local/Cellar/python/3.7.6_1/Frameworks/Python.framework/Versions/3.7/lib/python3.7/re.py\u001b[0m in \u001b[0;36mcompile\u001b[0;34m(pattern, flags)\u001b[0m\n\u001b[1;32m    232\u001b[0m \u001b[0;32mdef\u001b[0m \u001b[0mcompile\u001b[0m\u001b[0;34m(\u001b[0m\u001b[0mpattern\u001b[0m\u001b[0;34m,\u001b[0m \u001b[0mflags\u001b[0m\u001b[0;34m=\u001b[0m\u001b[0;36m0\u001b[0m\u001b[0;34m)\u001b[0m\u001b[0;34m:\u001b[0m\u001b[0;34m\u001b[0m\u001b[0;34m\u001b[0m\u001b[0m\n\u001b[1;32m    233\u001b[0m     \u001b[0;34m\"Compile a regular expression pattern, returning a Pattern object.\"\u001b[0m\u001b[0;34m\u001b[0m\u001b[0;34m\u001b[0m\u001b[0m\n\u001b[0;32m--> 234\u001b[0;31m     \u001b[0;32mreturn\u001b[0m \u001b[0m_compile\u001b[0m\u001b[0;34m(\u001b[0m\u001b[0mpattern\u001b[0m\u001b[0;34m,\u001b[0m \u001b[0mflags\u001b[0m\u001b[0;34m)\u001b[0m\u001b[0;34m\u001b[0m\u001b[0;34m\u001b[0m\u001b[0m\n\u001b[0m\u001b[1;32m    235\u001b[0m \u001b[0;34m\u001b[0m\u001b[0m\n\u001b[1;32m    236\u001b[0m \u001b[0;32mdef\u001b[0m \u001b[0mpurge\u001b[0m\u001b[0;34m(\u001b[0m\u001b[0;34m)\u001b[0m\u001b[0;34m:\u001b[0m\u001b[0;34m\u001b[0m\u001b[0;34m\u001b[0m\u001b[0m\n",
      "\u001b[0;32m/usr/local/Cellar/python/3.7.6_1/Frameworks/Python.framework/Versions/3.7/lib/python3.7/re.py\u001b[0m in \u001b[0;36m_compile\u001b[0;34m(pattern, flags)\u001b[0m\n\u001b[1;32m    274\u001b[0m         \u001b[0mflags\u001b[0m \u001b[0;34m=\u001b[0m \u001b[0mflags\u001b[0m\u001b[0;34m.\u001b[0m\u001b[0mvalue\u001b[0m\u001b[0;34m\u001b[0m\u001b[0;34m\u001b[0m\u001b[0m\n\u001b[1;32m    275\u001b[0m     \u001b[0;32mtry\u001b[0m\u001b[0;34m:\u001b[0m\u001b[0;34m\u001b[0m\u001b[0;34m\u001b[0m\u001b[0m\n\u001b[0;32m--> 276\u001b[0;31m         \u001b[0;32mreturn\u001b[0m \u001b[0m_cache\u001b[0m\u001b[0;34m[\u001b[0m\u001b[0mtype\u001b[0m\u001b[0;34m(\u001b[0m\u001b[0mpattern\u001b[0m\u001b[0;34m)\u001b[0m\u001b[0;34m,\u001b[0m \u001b[0mpattern\u001b[0m\u001b[0;34m,\u001b[0m \u001b[0mflags\u001b[0m\u001b[0;34m]\u001b[0m\u001b[0;34m\u001b[0m\u001b[0;34m\u001b[0m\u001b[0m\n\u001b[0m\u001b[1;32m    277\u001b[0m     \u001b[0;32mexcept\u001b[0m \u001b[0mKeyError\u001b[0m\u001b[0;34m:\u001b[0m\u001b[0;34m\u001b[0m\u001b[0;34m\u001b[0m\u001b[0m\n\u001b[1;32m    278\u001b[0m         \u001b[0;32mpass\u001b[0m\u001b[0;34m\u001b[0m\u001b[0;34m\u001b[0m\u001b[0m\n",
      "\u001b[0;31mTypeError\u001b[0m: unhashable type: 'list'"
     ]
    }
   ],
   "source": []
  },
  {
   "cell_type": "code",
   "execution_count": 85,
   "metadata": {},
   "outputs": [
    {
     "data": {
      "text/plain": [
       "True"
      ]
     },
     "execution_count": 85,
     "metadata": {},
     "output_type": "execute_result"
    }
   ],
   "source": [
    "test in corpus_id_list"
   ]
  },
  {
   "cell_type": "code",
   "execution_count": 48,
   "metadata": {},
   "outputs": [],
   "source": [
    "import nltk, math, codecs\n",
    "from gensim.models import Doc2Vec\n",
    "from nltk.cluster.kmeans import KMeansClusterer\n",
    "import re\n",
    "from nltk.corpus import stopwords\n",
    "import pandas as pd"
   ]
  },
  {
   "cell_type": "code",
   "execution_count": 47,
   "metadata": {},
   "outputs": [],
   "source": [
    "align_file=pd.read_csv('../../../scratch/boilerplate/lda_combo_results_V2.csv')"
   ]
  },
  {
   "cell_type": "code",
   "execution_count": 49,
   "metadata": {},
   "outputs": [],
   "source": [
    "import os\n",
    "import pandas as pd\n",
    "data_dir = os.path.join('../../../scratch/boilerplate/big_text_files')\n",
    "#lee_train_file = os.path.join(test_data_dir, 'big_doe_text_only.txt')\n",
    "doe_meta = pd.read_csv(os.path.join(data_dir, 'big_doe_metadata.txt'),header = None)\n",
    "usfs_meta = pd.read_csv(os.path.join(data_dir, 'big_usfs_metadata.txt'),header = None)\n",
    "blm_meta = pd.read_csv(os.path.join(data_dir, 'big_blm_metadata.txt'),header = None)\n",
    "eis_meta = pd.read_csv(os.path.join(data_dir, 'big_eis_metadata.txt'),header = None)"
   ]
  },
  {
   "cell_type": "code",
   "execution_count": 5,
   "metadata": {},
   "outputs": [],
   "source": [
    "meta_corpus = eis_meta.append(blm_meta).append(doe_meta).append(usfs_meta)"
   ]
  },
  {
   "cell_type": "code",
   "execution_count": 6,
   "metadata": {},
   "outputs": [],
   "source": []
  },
  {
   "cell_type": "code",
   "execution_count": 37,
   "metadata": {},
   "outputs": [],
   "source": []
  },
  {
   "cell_type": "code",
   "execution_count": 38,
   "metadata": {},
   "outputs": [],
   "source": [
    "\n",
    "doe_corpus = list(read_corpus(doe_file,tag = 'doe'))\n",
    "eis_corpus = list(read_corpus(eis_file))\n",
    "usfs_corpus = list(read_corpus(usfs_file))\n",
    "blm_corpus = list(read_corpus(blm_file))\n",
    "#train_corpus = doe_corpus + eis_corpus + usfs_corpus + blm_corpus"
   ]
  },
  {
   "cell_type": "code",
   "execution_count": null,
   "metadata": {},
   "outputs": [],
   "source": [
    "import multiprocessing\n",
    "print(f\"My machine has {multiprocessing.cpu_count()} cores.\")\n",
    "from multiprocessing.pool import Pool\n",
    "pool = Pool()\n",
    "#appending all the vectors in a list for training\n"
   ]
  },
  {
   "cell_type": "code",
   "execution_count": 117,
   "metadata": {},
   "outputs": [],
   "source": []
  },
  {
   "cell_type": "code",
   "execution_count": 116,
   "metadata": {},
   "outputs": [
    {
     "ename": "KeyboardInterrupt",
     "evalue": "",
     "output_type": "error",
     "traceback": [
      "\u001b[0;31m---------------------------------------------------------------------------\u001b[0m",
      "\u001b[0;31mKeyboardInterrupt\u001b[0m                         Traceback (most recent call last)",
      "\u001b[0;32m<ipython-input-116-e43a4b70cfd9>\u001b[0m in \u001b[0;36m<module>\u001b[0;34m\u001b[0m\n\u001b[0;32m----> 1\u001b[0;31m \u001b[0mX\u001b[0m \u001b[0;34m=\u001b[0m \u001b[0mpool\u001b[0m\u001b[0;34m.\u001b[0m\u001b[0mmap\u001b[0m\u001b[0;34m(\u001b[0m\u001b[0mmodel\u001b[0m\u001b[0;34m.\u001b[0m\u001b[0minfer_vector\u001b[0m\u001b[0;34m,\u001b[0m\u001b[0;34m[\u001b[0m\u001b[0me\u001b[0m\u001b[0;34m[\u001b[0m\u001b[0;36m0\u001b[0m\u001b[0;34m]\u001b[0m \u001b[0;32mfor\u001b[0m \u001b[0me\u001b[0m \u001b[0;32min\u001b[0m \u001b[0mtrain_corpus\u001b[0m\u001b[0;34m]\u001b[0m\u001b[0;34m)\u001b[0m\u001b[0;34m\u001b[0m\u001b[0;34m\u001b[0m\u001b[0m\n\u001b[0m",
      "\u001b[0;32m/usr/local/Cellar/python/3.7.6_1/Frameworks/Python.framework/Versions/3.7/lib/python3.7/multiprocessing/pool.py\u001b[0m in \u001b[0;36mmap\u001b[0;34m(self, func, iterable, chunksize)\u001b[0m\n\u001b[1;32m    266\u001b[0m         \u001b[0;32min\u001b[0m \u001b[0ma\u001b[0m \u001b[0mlist\u001b[0m \u001b[0mthat\u001b[0m \u001b[0;32mis\u001b[0m \u001b[0mreturned\u001b[0m\u001b[0;34m.\u001b[0m\u001b[0;34m\u001b[0m\u001b[0;34m\u001b[0m\u001b[0m\n\u001b[1;32m    267\u001b[0m         '''\n\u001b[0;32m--> 268\u001b[0;31m         \u001b[0;32mreturn\u001b[0m \u001b[0mself\u001b[0m\u001b[0;34m.\u001b[0m\u001b[0m_map_async\u001b[0m\u001b[0;34m(\u001b[0m\u001b[0mfunc\u001b[0m\u001b[0;34m,\u001b[0m \u001b[0miterable\u001b[0m\u001b[0;34m,\u001b[0m \u001b[0mmapstar\u001b[0m\u001b[0;34m,\u001b[0m \u001b[0mchunksize\u001b[0m\u001b[0;34m)\u001b[0m\u001b[0;34m.\u001b[0m\u001b[0mget\u001b[0m\u001b[0;34m(\u001b[0m\u001b[0;34m)\u001b[0m\u001b[0;34m\u001b[0m\u001b[0;34m\u001b[0m\u001b[0m\n\u001b[0m\u001b[1;32m    269\u001b[0m \u001b[0;34m\u001b[0m\u001b[0m\n\u001b[1;32m    270\u001b[0m     \u001b[0;32mdef\u001b[0m \u001b[0mstarmap\u001b[0m\u001b[0;34m(\u001b[0m\u001b[0mself\u001b[0m\u001b[0;34m,\u001b[0m \u001b[0mfunc\u001b[0m\u001b[0;34m,\u001b[0m \u001b[0miterable\u001b[0m\u001b[0;34m,\u001b[0m \u001b[0mchunksize\u001b[0m\u001b[0;34m=\u001b[0m\u001b[0;32mNone\u001b[0m\u001b[0;34m)\u001b[0m\u001b[0;34m:\u001b[0m\u001b[0;34m\u001b[0m\u001b[0;34m\u001b[0m\u001b[0m\n",
      "\u001b[0;32m/usr/local/Cellar/python/3.7.6_1/Frameworks/Python.framework/Versions/3.7/lib/python3.7/multiprocessing/pool.py\u001b[0m in \u001b[0;36mget\u001b[0;34m(self, timeout)\u001b[0m\n\u001b[1;32m    649\u001b[0m \u001b[0;34m\u001b[0m\u001b[0m\n\u001b[1;32m    650\u001b[0m     \u001b[0;32mdef\u001b[0m \u001b[0mget\u001b[0m\u001b[0;34m(\u001b[0m\u001b[0mself\u001b[0m\u001b[0;34m,\u001b[0m \u001b[0mtimeout\u001b[0m\u001b[0;34m=\u001b[0m\u001b[0;32mNone\u001b[0m\u001b[0;34m)\u001b[0m\u001b[0;34m:\u001b[0m\u001b[0;34m\u001b[0m\u001b[0;34m\u001b[0m\u001b[0m\n\u001b[0;32m--> 651\u001b[0;31m         \u001b[0mself\u001b[0m\u001b[0;34m.\u001b[0m\u001b[0mwait\u001b[0m\u001b[0;34m(\u001b[0m\u001b[0mtimeout\u001b[0m\u001b[0;34m)\u001b[0m\u001b[0;34m\u001b[0m\u001b[0;34m\u001b[0m\u001b[0m\n\u001b[0m\u001b[1;32m    652\u001b[0m         \u001b[0;32mif\u001b[0m \u001b[0;32mnot\u001b[0m \u001b[0mself\u001b[0m\u001b[0;34m.\u001b[0m\u001b[0mready\u001b[0m\u001b[0;34m(\u001b[0m\u001b[0;34m)\u001b[0m\u001b[0;34m:\u001b[0m\u001b[0;34m\u001b[0m\u001b[0;34m\u001b[0m\u001b[0m\n\u001b[1;32m    653\u001b[0m             \u001b[0;32mraise\u001b[0m \u001b[0mTimeoutError\u001b[0m\u001b[0;34m\u001b[0m\u001b[0;34m\u001b[0m\u001b[0m\n",
      "\u001b[0;32m/usr/local/Cellar/python/3.7.6_1/Frameworks/Python.framework/Versions/3.7/lib/python3.7/multiprocessing/pool.py\u001b[0m in \u001b[0;36mwait\u001b[0;34m(self, timeout)\u001b[0m\n\u001b[1;32m    646\u001b[0m \u001b[0;34m\u001b[0m\u001b[0m\n\u001b[1;32m    647\u001b[0m     \u001b[0;32mdef\u001b[0m \u001b[0mwait\u001b[0m\u001b[0;34m(\u001b[0m\u001b[0mself\u001b[0m\u001b[0;34m,\u001b[0m \u001b[0mtimeout\u001b[0m\u001b[0;34m=\u001b[0m\u001b[0;32mNone\u001b[0m\u001b[0;34m)\u001b[0m\u001b[0;34m:\u001b[0m\u001b[0;34m\u001b[0m\u001b[0;34m\u001b[0m\u001b[0m\n\u001b[0;32m--> 648\u001b[0;31m         \u001b[0mself\u001b[0m\u001b[0;34m.\u001b[0m\u001b[0m_event\u001b[0m\u001b[0;34m.\u001b[0m\u001b[0mwait\u001b[0m\u001b[0;34m(\u001b[0m\u001b[0mtimeout\u001b[0m\u001b[0;34m)\u001b[0m\u001b[0;34m\u001b[0m\u001b[0;34m\u001b[0m\u001b[0m\n\u001b[0m\u001b[1;32m    649\u001b[0m \u001b[0;34m\u001b[0m\u001b[0m\n\u001b[1;32m    650\u001b[0m     \u001b[0;32mdef\u001b[0m \u001b[0mget\u001b[0m\u001b[0;34m(\u001b[0m\u001b[0mself\u001b[0m\u001b[0;34m,\u001b[0m \u001b[0mtimeout\u001b[0m\u001b[0;34m=\u001b[0m\u001b[0;32mNone\u001b[0m\u001b[0;34m)\u001b[0m\u001b[0;34m:\u001b[0m\u001b[0;34m\u001b[0m\u001b[0;34m\u001b[0m\u001b[0m\n",
      "\u001b[0;32m/usr/local/Cellar/python/3.7.6_1/Frameworks/Python.framework/Versions/3.7/lib/python3.7/threading.py\u001b[0m in \u001b[0;36mwait\u001b[0;34m(self, timeout)\u001b[0m\n\u001b[1;32m    550\u001b[0m             \u001b[0msignaled\u001b[0m \u001b[0;34m=\u001b[0m \u001b[0mself\u001b[0m\u001b[0;34m.\u001b[0m\u001b[0m_flag\u001b[0m\u001b[0;34m\u001b[0m\u001b[0;34m\u001b[0m\u001b[0m\n\u001b[1;32m    551\u001b[0m             \u001b[0;32mif\u001b[0m \u001b[0;32mnot\u001b[0m \u001b[0msignaled\u001b[0m\u001b[0;34m:\u001b[0m\u001b[0;34m\u001b[0m\u001b[0;34m\u001b[0m\u001b[0m\n\u001b[0;32m--> 552\u001b[0;31m                 \u001b[0msignaled\u001b[0m \u001b[0;34m=\u001b[0m \u001b[0mself\u001b[0m\u001b[0;34m.\u001b[0m\u001b[0m_cond\u001b[0m\u001b[0;34m.\u001b[0m\u001b[0mwait\u001b[0m\u001b[0;34m(\u001b[0m\u001b[0mtimeout\u001b[0m\u001b[0;34m)\u001b[0m\u001b[0;34m\u001b[0m\u001b[0;34m\u001b[0m\u001b[0m\n\u001b[0m\u001b[1;32m    553\u001b[0m             \u001b[0;32mreturn\u001b[0m \u001b[0msignaled\u001b[0m\u001b[0;34m\u001b[0m\u001b[0;34m\u001b[0m\u001b[0m\n\u001b[1;32m    554\u001b[0m \u001b[0;34m\u001b[0m\u001b[0m\n",
      "\u001b[0;32m/usr/local/Cellar/python/3.7.6_1/Frameworks/Python.framework/Versions/3.7/lib/python3.7/threading.py\u001b[0m in \u001b[0;36mwait\u001b[0;34m(self, timeout)\u001b[0m\n\u001b[1;32m    294\u001b[0m         \u001b[0;32mtry\u001b[0m\u001b[0;34m:\u001b[0m    \u001b[0;31m# restore state no matter what (e.g., KeyboardInterrupt)\u001b[0m\u001b[0;34m\u001b[0m\u001b[0;34m\u001b[0m\u001b[0m\n\u001b[1;32m    295\u001b[0m             \u001b[0;32mif\u001b[0m \u001b[0mtimeout\u001b[0m \u001b[0;32mis\u001b[0m \u001b[0;32mNone\u001b[0m\u001b[0;34m:\u001b[0m\u001b[0;34m\u001b[0m\u001b[0;34m\u001b[0m\u001b[0m\n\u001b[0;32m--> 296\u001b[0;31m                 \u001b[0mwaiter\u001b[0m\u001b[0;34m.\u001b[0m\u001b[0macquire\u001b[0m\u001b[0;34m(\u001b[0m\u001b[0;34m)\u001b[0m\u001b[0;34m\u001b[0m\u001b[0;34m\u001b[0m\u001b[0m\n\u001b[0m\u001b[1;32m    297\u001b[0m                 \u001b[0mgotit\u001b[0m \u001b[0;34m=\u001b[0m \u001b[0;32mTrue\u001b[0m\u001b[0;34m\u001b[0m\u001b[0;34m\u001b[0m\u001b[0m\n\u001b[1;32m    298\u001b[0m             \u001b[0;32melse\u001b[0m\u001b[0;34m:\u001b[0m\u001b[0;34m\u001b[0m\u001b[0;34m\u001b[0m\u001b[0m\n",
      "\u001b[0;31mKeyboardInterrupt\u001b[0m: "
     ]
    }
   ],
   "source": [
    "X = pool.map(model.infer_vector,[e[0] for e in train_corpus])\n"
   ]
  },
  {
   "cell_type": "code",
   "execution_count": null,
   "metadata": {},
   "outputs": [],
   "source": [
    "pool.close()"
   ]
  },
  {
   "cell_type": "code",
   "execution_count": null,
   "metadata": {},
   "outputs": [],
   "source": [
    "X=[]\n",
    "for i in range(len(model.docvecs)):\n",
    "    X.append(model.docvecs[i])\n",
    "    #print mdoel.docvecs[i]\n",
    "dvecs = []\n",
    "for d in range(len(train_corpus)):\n",
    "    dvec = model.infer_vector(train_corpus[d][0])\n",
    "    dvecs.append(dvec)"
   ]
  },
  {
   "cell_type": "code",
   "execution_count": 68,
   "metadata": {},
   "outputs": [],
   "source": [
    "#import the modules\n",
    "from sklearn.cluster import KMeans\n",
    "import numpy as np\n",
    "#create the kmeans object withe vectors created previously\n",
    "kmeans = KMeans(n_clusters=40, random_state=0).fit(X)\n"
   ]
  },
  {
   "cell_type": "code",
   "execution_count": null,
   "metadata": {},
   "outputs": [],
   "source": [
    "\n",
    "#print all the labels\n",
    "print kmeans.labels_\n",
    "#create a dictionary to get cluster data\n",
    "clusters={0:[],1:[],2:[],3:[]}\n",
    "for i in range(40):\n",
    "    clusters[kmeans.labels_[i]].append(' '.join(df_new.ix[i,'title_l']))\n",
    "print clusters"
   ]
  },
  {
   "cell_type": "code",
   "execution_count": 82,
   "metadata": {},
   "outputs": [
    {
     "ename": "NameError",
     "evalue": "name 'df_new' is not defined",
     "output_type": "error",
     "traceback": [
      "\u001b[0;31m---------------------------------------------------------------------------\u001b[0m",
      "\u001b[0;31mNameError\u001b[0m                                 Traceback (most recent call last)",
      "\u001b[0;32m<ipython-input-82-a89af3485299>\u001b[0m in \u001b[0;36m<module>\u001b[0;34m\u001b[0m\n\u001b[1;32m      2\u001b[0m \u001b[0;32mfrom\u001b[0m \u001b[0mgensim\u001b[0m\u001b[0;34m.\u001b[0m\u001b[0mmodels\u001b[0m\u001b[0;34m.\u001b[0m\u001b[0mdoc2vec\u001b[0m \u001b[0;32mimport\u001b[0m \u001b[0mDoc2Vec\u001b[0m\u001b[0;34m,\u001b[0m \u001b[0mTaggedDocument\u001b[0m\u001b[0;34m\u001b[0m\u001b[0;34m\u001b[0m\u001b[0m\n\u001b[1;32m      3\u001b[0m \u001b[0;34m\u001b[0m\u001b[0m\n\u001b[0;32m----> 4\u001b[0;31m \u001b[0mdocuments\u001b[0m \u001b[0;34m=\u001b[0m \u001b[0;34m[\u001b[0m\u001b[0mTaggedDocument\u001b[0m\u001b[0;34m(\u001b[0m\u001b[0mdoc\u001b[0m\u001b[0;34m,\u001b[0m \u001b[0;34m[\u001b[0m\u001b[0mi\u001b[0m\u001b[0;34m]\u001b[0m\u001b[0;34m)\u001b[0m \u001b[0;32mfor\u001b[0m \u001b[0mi\u001b[0m\u001b[0;34m,\u001b[0m \u001b[0mdoc\u001b[0m \u001b[0;32min\u001b[0m \u001b[0menumerate\u001b[0m\u001b[0;34m(\u001b[0m\u001b[0mlist\u001b[0m\u001b[0;34m(\u001b[0m\u001b[0mdf_new\u001b[0m\u001b[0;34m[\u001b[0m\u001b[0;34m'title_l'\u001b[0m\u001b[0;34m]\u001b[0m\u001b[0;34m)\u001b[0m\u001b[0;34m)\u001b[0m\u001b[0;34m]\u001b[0m\u001b[0;34m\u001b[0m\u001b[0;34m\u001b[0m\u001b[0m\n\u001b[0m",
      "\u001b[0;31mNameError\u001b[0m: name 'df_new' is not defined"
     ]
    }
   ],
   "source": [
    "#import the modules\n",
    "from gensim.models.doc2vec import Doc2Vec, TaggedDocument\n",
    "\n",
    "documents = [TaggedDocument(doc, [i]) for i, doc in enumerate(list(df_new['title_l']))]\n"
   ]
  },
  {
   "cell_type": "code",
   "execution_count": 101,
   "metadata": {},
   "outputs": [],
   "source": [
    "def preprocess(str):\n",
    "    # remove links\n",
    "    str = re.sub(r'http(s)?:\\/\\/\\S*? ', \"\", str)\n",
    "    return str\n",
    "\n",
    "\n",
    "def preprocess_document(text):\n",
    "    text = preprocess(text)\n",
    "    return ''.join([x if x.isalnum() or x.isspace() else \" \" for x in text ]).split()"
   ]
  },
  {
   "cell_type": "code",
   "execution_count": 67,
   "metadata": {},
   "outputs": [
    {
     "ename": "ValueError",
     "evalue": "object arrays are not supported",
     "output_type": "error",
     "traceback": [
      "\u001b[0;31m---------------------------------------------------------------------------\u001b[0m",
      "\u001b[0;31mValueError\u001b[0m                                Traceback (most recent call last)",
      "\u001b[0;32m<ipython-input-67-d2fdb80b721a>\u001b[0m in \u001b[0;36m<module>\u001b[0;34m\u001b[0m\n\u001b[1;32m      3\u001b[0m \u001b[0mNUMBER_OF_CLUSTERS\u001b[0m \u001b[0;34m=\u001b[0m \u001b[0;36m30\u001b[0m\u001b[0;34m\u001b[0m\u001b[0;34m\u001b[0m\u001b[0m\n\u001b[1;32m      4\u001b[0m \u001b[0;34m\u001b[0m\u001b[0m\n\u001b[0;32m----> 5\u001b[0;31m \u001b[0mcentroids\u001b[0m\u001b[0;34m,\u001b[0m \u001b[0m_\u001b[0m \u001b[0;34m=\u001b[0m \u001b[0mkmeans\u001b[0m\u001b[0;34m(\u001b[0m\u001b[0mmodel\u001b[0m\u001b[0;34m.\u001b[0m\u001b[0mdocvecs\u001b[0m\u001b[0;34m,\u001b[0m \u001b[0mNUMBER_OF_CLUSTERS\u001b[0m\u001b[0;34m)\u001b[0m\u001b[0;34m\u001b[0m\u001b[0;34m\u001b[0m\u001b[0m\n\u001b[0m\u001b[1;32m      6\u001b[0m \u001b[0;34m\u001b[0m\u001b[0m\n\u001b[1;32m      7\u001b[0m \u001b[0;31m# computes cluster Id for document vectors\u001b[0m\u001b[0;34m\u001b[0m\u001b[0;34m\u001b[0m\u001b[0;34m\u001b[0m\u001b[0m\n",
      "\u001b[0;32m/usr/local/lib/python3.7/site-packages/scipy/cluster/vq.py\u001b[0m in \u001b[0;36mkmeans\u001b[0;34m(obs, k_or_guess, iter, thresh, check_finite)\u001b[0m\n\u001b[1;32m    431\u001b[0m     \u001b[0;34m>>\u001b[0m\u001b[0;34m>\u001b[0m \u001b[0mplt\u001b[0m\u001b[0;34m.\u001b[0m\u001b[0mshow\u001b[0m\u001b[0;34m(\u001b[0m\u001b[0;34m)\u001b[0m\u001b[0;34m\u001b[0m\u001b[0;34m\u001b[0m\u001b[0m\n\u001b[1;32m    432\u001b[0m     \"\"\"\n\u001b[0;32m--> 433\u001b[0;31m     \u001b[0mobs\u001b[0m \u001b[0;34m=\u001b[0m \u001b[0m_asarray_validated\u001b[0m\u001b[0;34m(\u001b[0m\u001b[0mobs\u001b[0m\u001b[0;34m,\u001b[0m \u001b[0mcheck_finite\u001b[0m\u001b[0;34m=\u001b[0m\u001b[0mcheck_finite\u001b[0m\u001b[0;34m)\u001b[0m\u001b[0;34m\u001b[0m\u001b[0;34m\u001b[0m\u001b[0m\n\u001b[0m\u001b[1;32m    434\u001b[0m     \u001b[0;32mif\u001b[0m \u001b[0miter\u001b[0m \u001b[0;34m<\u001b[0m \u001b[0;36m1\u001b[0m\u001b[0;34m:\u001b[0m\u001b[0;34m\u001b[0m\u001b[0;34m\u001b[0m\u001b[0m\n\u001b[1;32m    435\u001b[0m         \u001b[0;32mraise\u001b[0m \u001b[0mValueError\u001b[0m\u001b[0;34m(\u001b[0m\u001b[0;34m\"iter must be at least 1, got %s\"\u001b[0m \u001b[0;34m%\u001b[0m \u001b[0miter\u001b[0m\u001b[0;34m)\u001b[0m\u001b[0;34m\u001b[0m\u001b[0;34m\u001b[0m\u001b[0m\n",
      "\u001b[0;32m/usr/local/lib/python3.7/site-packages/scipy/_lib/_util.py\u001b[0m in \u001b[0;36m_asarray_validated\u001b[0;34m(a, check_finite, sparse_ok, objects_ok, mask_ok, as_inexact)\u001b[0m\n\u001b[1;32m    247\u001b[0m     \u001b[0;32mif\u001b[0m \u001b[0;32mnot\u001b[0m \u001b[0mobjects_ok\u001b[0m\u001b[0;34m:\u001b[0m\u001b[0;34m\u001b[0m\u001b[0;34m\u001b[0m\u001b[0m\n\u001b[1;32m    248\u001b[0m         \u001b[0;32mif\u001b[0m \u001b[0ma\u001b[0m\u001b[0;34m.\u001b[0m\u001b[0mdtype\u001b[0m \u001b[0;32mis\u001b[0m \u001b[0mnp\u001b[0m\u001b[0;34m.\u001b[0m\u001b[0mdtype\u001b[0m\u001b[0;34m(\u001b[0m\u001b[0;34m'O'\u001b[0m\u001b[0;34m)\u001b[0m\u001b[0;34m:\u001b[0m\u001b[0;34m\u001b[0m\u001b[0;34m\u001b[0m\u001b[0m\n\u001b[0;32m--> 249\u001b[0;31m             \u001b[0;32mraise\u001b[0m \u001b[0mValueError\u001b[0m\u001b[0;34m(\u001b[0m\u001b[0;34m'object arrays are not supported'\u001b[0m\u001b[0;34m)\u001b[0m\u001b[0;34m\u001b[0m\u001b[0;34m\u001b[0m\u001b[0m\n\u001b[0m\u001b[1;32m    250\u001b[0m     \u001b[0;32mif\u001b[0m \u001b[0mas_inexact\u001b[0m\u001b[0;34m:\u001b[0m\u001b[0;34m\u001b[0m\u001b[0;34m\u001b[0m\u001b[0m\n\u001b[1;32m    251\u001b[0m         \u001b[0;32mif\u001b[0m \u001b[0;32mnot\u001b[0m \u001b[0mnp\u001b[0m\u001b[0;34m.\u001b[0m\u001b[0missubdtype\u001b[0m\u001b[0;34m(\u001b[0m\u001b[0ma\u001b[0m\u001b[0;34m.\u001b[0m\u001b[0mdtype\u001b[0m\u001b[0;34m,\u001b[0m \u001b[0mnp\u001b[0m\u001b[0;34m.\u001b[0m\u001b[0minexact\u001b[0m\u001b[0;34m)\u001b[0m\u001b[0;34m:\u001b[0m\u001b[0;34m\u001b[0m\u001b[0;34m\u001b[0m\u001b[0m\n",
      "\u001b[0;31mValueError\u001b[0m: object arrays are not supported"
     ]
    }
   ],
   "source": [
    "\n",
    "\n",
    "\n",
    "\n",
    "# computes cluster Id for document vectors\n",
    "doc_ids,_ = vq(model.docvecs,centroids)\n",
    "\n",
    "# zips cluster Ids back to document labels \n",
    "doc_labels = zip(model.docvecs.doctags.keys(), doc_ids)\n"
   ]
  },
  {
   "cell_type": "code",
   "execution_count": 107,
   "metadata": {},
   "outputs": [
    {
     "ename": "KeyboardInterrupt",
     "evalue": "",
     "output_type": "error",
     "traceback": [
      "\u001b[0;31m---------------------------------------------------------------------------\u001b[0m",
      "\u001b[0;31mKeyboardInterrupt\u001b[0m                         Traceback (most recent call last)",
      "\u001b[0;32m<ipython-input-107-d80449451cad>\u001b[0m in \u001b[0;36m<module>\u001b[0;34m\u001b[0m\n\u001b[1;32m      1\u001b[0m \u001b[0mdvecs\u001b[0m \u001b[0;34m=\u001b[0m \u001b[0;34m[\u001b[0m\u001b[0;34m]\u001b[0m\u001b[0;34m\u001b[0m\u001b[0;34m\u001b[0m\u001b[0m\n\u001b[1;32m      2\u001b[0m \u001b[0;32mfor\u001b[0m \u001b[0md\u001b[0m \u001b[0;32min\u001b[0m \u001b[0mrange\u001b[0m\u001b[0;34m(\u001b[0m\u001b[0mlen\u001b[0m\u001b[0;34m(\u001b[0m\u001b[0mtrain_corpus\u001b[0m\u001b[0;34m)\u001b[0m\u001b[0;34m)\u001b[0m\u001b[0;34m:\u001b[0m\u001b[0;34m\u001b[0m\u001b[0;34m\u001b[0m\u001b[0m\n\u001b[0;32m----> 3\u001b[0;31m     \u001b[0mdvec\u001b[0m \u001b[0;34m=\u001b[0m \u001b[0mmodel\u001b[0m\u001b[0;34m.\u001b[0m\u001b[0minfer_vector\u001b[0m\u001b[0;34m(\u001b[0m\u001b[0mtrain_corpus\u001b[0m\u001b[0;34m[\u001b[0m\u001b[0md\u001b[0m\u001b[0;34m]\u001b[0m\u001b[0;34m[\u001b[0m\u001b[0;36m0\u001b[0m\u001b[0;34m]\u001b[0m\u001b[0;34m)\u001b[0m\u001b[0;34m\u001b[0m\u001b[0;34m\u001b[0m\u001b[0m\n\u001b[0m\u001b[1;32m      4\u001b[0m     \u001b[0mdvecs\u001b[0m\u001b[0;34m.\u001b[0m\u001b[0mappend\u001b[0m\u001b[0;34m(\u001b[0m\u001b[0mdvec\u001b[0m\u001b[0;34m)\u001b[0m\u001b[0;34m\u001b[0m\u001b[0;34m\u001b[0m\u001b[0m\n",
      "\u001b[0;32m/usr/local/lib/python3.7/site-packages/gensim/models/doc2vec.py\u001b[0m in \u001b[0;36minfer_vector\u001b[0;34m(self, doc_words, alpha, min_alpha, epochs, steps)\u001b[0m\n\u001b[1;32m    944\u001b[0m                 train_document_dm(\n\u001b[1;32m    945\u001b[0m                     \u001b[0mself\u001b[0m\u001b[0;34m,\u001b[0m \u001b[0mdoc_words\u001b[0m\u001b[0;34m,\u001b[0m \u001b[0mdoctag_indexes\u001b[0m\u001b[0;34m,\u001b[0m \u001b[0malpha\u001b[0m\u001b[0;34m,\u001b[0m \u001b[0mwork\u001b[0m\u001b[0;34m,\u001b[0m \u001b[0mneu1\u001b[0m\u001b[0;34m,\u001b[0m\u001b[0;34m\u001b[0m\u001b[0;34m\u001b[0m\u001b[0m\n\u001b[0;32m--> 946\u001b[0;31m                     \u001b[0mlearn_words\u001b[0m\u001b[0;34m=\u001b[0m\u001b[0;32mFalse\u001b[0m\u001b[0;34m,\u001b[0m \u001b[0mlearn_hidden\u001b[0m\u001b[0;34m=\u001b[0m\u001b[0;32mFalse\u001b[0m\u001b[0;34m,\u001b[0m \u001b[0mdoctag_vectors\u001b[0m\u001b[0;34m=\u001b[0m\u001b[0mdoctag_vectors\u001b[0m\u001b[0;34m,\u001b[0m \u001b[0mdoctag_locks\u001b[0m\u001b[0;34m=\u001b[0m\u001b[0mdoctag_locks\u001b[0m\u001b[0;34m\u001b[0m\u001b[0;34m\u001b[0m\u001b[0m\n\u001b[0m\u001b[1;32m    947\u001b[0m                 )\n\u001b[1;32m    948\u001b[0m             \u001b[0malpha\u001b[0m \u001b[0;34m-=\u001b[0m \u001b[0malpha_delta\u001b[0m\u001b[0;34m\u001b[0m\u001b[0;34m\u001b[0m\u001b[0m\n",
      "\u001b[0;31mKeyboardInterrupt\u001b[0m: "
     ]
    }
   ],
   "source": []
  },
  {
   "cell_type": "code",
   "execution_count": 36,
   "metadata": {},
   "outputs": [
    {
     "ename": "AttributeError",
     "evalue": "'Word2VecKeyedVectors' object has no attribute 'shape'",
     "output_type": "error",
     "traceback": [
      "\u001b[0;31m---------------------------------------------------------------------------\u001b[0m",
      "\u001b[0;31mAttributeError\u001b[0m                            Traceback (most recent call last)",
      "\u001b[0;32m<ipython-input-36-6ad1efb92777>\u001b[0m in \u001b[0;36m<module>\u001b[0;34m\u001b[0m\n\u001b[0;32m----> 1\u001b[0;31m \u001b[0mvectors\u001b[0m\u001b[0;34m.\u001b[0m\u001b[0mshape\u001b[0m\u001b[0;34m\u001b[0m\u001b[0;34m\u001b[0m\u001b[0m\n\u001b[0m",
      "\u001b[0;31mAttributeError\u001b[0m: 'Word2VecKeyedVectors' object has no attribute 'shape'"
     ]
    }
   ],
   "source": [
    "NUM_CLUSTERS = 20\n",
    "kclusterer = KMeansClusterer(NUM_CLUSTERS, distance=nltk.cluster.util.cosine_distance, repeats=25)\n",
    "assigned_clusters = kclusterer.cluster(vectors, assign_clusters=True)\n"
   ]
  },
  {
   "cell_type": "code",
   "execution_count": 7,
   "metadata": {},
   "outputs": [],
   "source": [
    "#model = gensim.models.doc2vec.Doc2Vec(vector_size=50, min_count=4, epochs=40,seed = 24)"
   ]
  },
  {
   "cell_type": "code",
   "execution_count": 8,
   "metadata": {},
   "outputs": [],
   "source": [
    "#model.build_vocab(train_corpus)"
   ]
  },
  {
   "cell_type": "code",
   "execution_count": 9,
   "metadata": {},
   "outputs": [],
   "source": [
    "#model.train(train_corpus, total_examples=model.corpus_count, epochs=model.epochs)"
   ]
  },
  {
   "cell_type": "code",
   "execution_count": 10,
   "metadata": {},
   "outputs": [],
   "source": [
    "\n",
    "# saving a model trained via Gensim's fastText implementation\n",
    "#model.save('nepa_doc2vec_model')\n",
    "#loaded_model = FT_gensim.load('saved_model_gensim')\n",
    "#print(loaded_model)\n",
    "\n",
    "# saving a model trained via fastText wrapper\n",
    "#model_wrapper.save('saved_model_wrapper')\n",
    "#loaded_model = FT_wrapper.load('saved_model_wrapper')\n",
    "#print(loaded_model)"
   ]
  },
  {
   "cell_type": "code",
   "execution_count": 78,
   "metadata": {},
   "outputs": [
    {
     "name": "stdout",
     "output_type": "stream",
     "text": [
      "[ 0.30146962  0.47871202  0.3151884  -0.4861505   0.10213748 -0.46538484\n",
      " -0.03540125  0.2057563   0.5080718   0.00606942 -0.20262845  0.41470525\n",
      "  0.23243083 -0.47650027 -0.51098603 -0.27431914  0.0289266   0.13361788\n",
      " -0.21318203 -0.4590563  -0.03388743  0.12671329  0.31285724 -0.87205553\n",
      " -0.1736215  -0.46231928  0.02112862 -0.08940966 -0.04669904 -0.13610679\n",
      " -0.4941648   0.08937789 -0.28161564 -0.47980326 -0.23223089  0.03737691\n",
      " -0.56614333 -0.24798182 -0.53147715  0.1819585   0.08928169  0.00197849\n",
      " -0.3715223  -0.13387935 -0.10676519  0.21515708 -0.16289233  0.17692931\n",
      "  0.1822422  -0.24217623]\n"
     ]
    }
   ],
   "source": [
    "#vector = model.infer_vector(['only', 'you', 'can', 'prevent', 'forest', 'fires'])\n",
    "#print(vector)"
   ]
  },
  {
   "cell_type": "code",
   "execution_count": 34,
   "metadata": {},
   "outputs": [],
   "source": []
  },
  {
   "cell_type": "code",
   "execution_count": 40,
   "metadata": {},
   "outputs": [],
   "source": [
    "test = model.wv.most_similar(['arsenic'])"
   ]
  },
  {
   "cell_type": "code",
   "execution_count": 97,
   "metadata": {},
   "outputs": [
    {
     "name": "stderr",
     "output_type": "stream",
     "text": [
      "/Users/tscott/opt/anaconda3/lib/python3.7/site-packages/IPython/core/interactiveshell.py:3058: DtypeWarning: Columns (3,4) have mixed types. Specify dtype option on import or set low_memory=False.\n",
      "  interactivity=interactivity, compiler=compiler, result=result)\n"
     ]
    }
   ],
   "source": [
    "import pandas as pd\n",
    "lda = pd.read_csv('../../../scratch/boilerplate/lda_combo_results_V2.csv')"
   ]
  },
  {
   "cell_type": "code",
   "execution_count": 102,
   "metadata": {},
   "outputs": [
    {
     "name": "stderr",
     "output_type": "stream",
     "text": [
      "/Users/tscott/opt/anaconda3/lib/python3.7/site-packages/ipykernel_launcher.py:1: UserWarning: Boolean Series key will be reindexed to match DataFrame index.\n",
      "  \"\"\"Entry point for launching an IPython kernel.\n"
     ]
    }
   ],
   "source": [
    "lda400 = lda[lda.score>=400][lda.a_id!=lda.b_id]"
   ]
  },
  {
   "cell_type": "code",
   "execution_count": 119,
   "metadata": {},
   "outputs": [
    {
     "data": {
      "text/html": [
       "<div>\n",
       "<style scoped>\n",
       "    .dataframe tbody tr th:only-of-type {\n",
       "        vertical-align: middle;\n",
       "    }\n",
       "\n",
       "    .dataframe tbody tr th {\n",
       "        vertical-align: top;\n",
       "    }\n",
       "\n",
       "    .dataframe thead th {\n",
       "        text-align: right;\n",
       "    }\n",
       "</style>\n",
       "<table border=\"1\" class=\"dataframe\">\n",
       "  <thead>\n",
       "    <tr style=\"text-align: right;\">\n",
       "      <th></th>\n",
       "      <th>a</th>\n",
       "      <th>b</th>\n",
       "      <th>score</th>\n",
       "      <th>a_id</th>\n",
       "      <th>b_id</th>\n",
       "      <th>a_page</th>\n",
       "      <th>b_page</th>\n",
       "    </tr>\n",
       "  </thead>\n",
       "  <tbody>\n",
       "    <tr>\n",
       "      <td>2384714</td>\n",
       "      <td>EA-2006--EA-2006--EA-2006_FEA-2016.pdf.txt--45</td>\n",
       "      <td>EA-2088--EA-2088--final-ea-2088-columbian-deer...</td>\n",
       "      <td>422</td>\n",
       "      <td>EA-2006</td>\n",
       "      <td>EA-2088</td>\n",
       "      <td>45</td>\n",
       "      <td>22</td>\n",
       "    </tr>\n",
       "  </tbody>\n",
       "</table>\n",
       "</div>"
      ],
      "text/plain": [
       "                                                      a  \\\n",
       "2384714  EA-2006--EA-2006--EA-2006_FEA-2016.pdf.txt--45   \n",
       "\n",
       "                                                         b  score     a_id  \\\n",
       "2384714  EA-2088--EA-2088--final-ea-2088-columbian-deer...    422  EA-2006   \n",
       "\n",
       "            b_id  a_page  b_page  \n",
       "2384714  EA-2088      45      22  "
      ]
     },
     "execution_count": 119,
     "metadata": {},
     "output_type": "execute_result"
    }
   ],
   "source": [
    "lda400[lda400.a_id=='EA-2006']"
   ]
  },
  {
   "cell_type": "code",
   "execution_count": 125,
   "metadata": {},
   "outputs": [],
   "source": [
    "lda400_acount = lda400.groupby(['a_id']).agg(\n",
    "    {\n",
    "         'a_id': \"count\",  # get the count of networks\n",
    "    }\n",
    ")"
   ]
  },
  {
   "cell_type": "code",
   "execution_count": 127,
   "metadata": {},
   "outputs": [],
   "source": [
    "lda400_bcount = lda400.groupby(['b_id']).agg(\n",
    "    {\n",
    "         'b_id': \"count\",  # get the count of networks\n",
    "    }\n",
    ")"
   ]
  },
  {
   "cell_type": "code",
   "execution_count": null,
   "metadata": {},
   "outputs": [],
   "source": [
    "lda400_bcount.names"
   ]
  },
  {
   "cell_type": "code",
   "execution_count": 123,
   "metadata": {},
   "outputs": [
    {
     "name": "stderr",
     "output_type": "stream",
     "text": [
      "/Users/tscott/opt/anaconda3/lib/python3.7/site-packages/pandas/core/frame.py:7123: FutureWarning: Sorting because non-concatenation axis is not aligned. A future version\n",
      "of pandas will change to not sort by default.\n",
      "\n",
      "To accept the future behavior, pass 'sort=False'.\n",
      "\n",
      "To retain the current behavior and silence the warning, pass 'sort=True'.\n",
      "\n",
      "  sort=sort,\n"
     ]
    },
    {
     "data": {
      "text/html": [
       "<div>\n",
       "<style scoped>\n",
       "    .dataframe tbody tr th:only-of-type {\n",
       "        vertical-align: middle;\n",
       "    }\n",
       "\n",
       "    .dataframe tbody tr th {\n",
       "        vertical-align: top;\n",
       "    }\n",
       "\n",
       "    .dataframe thead th {\n",
       "        text-align: right;\n",
       "    }\n",
       "</style>\n",
       "<table border=\"1\" class=\"dataframe\">\n",
       "  <thead>\n",
       "    <tr style=\"text-align: right;\">\n",
       "      <th></th>\n",
       "      <th>a_id</th>\n",
       "      <th>b_id</th>\n",
       "    </tr>\n",
       "  </thead>\n",
       "  <tbody>\n",
       "    <tr>\n",
       "      <td>1362</td>\n",
       "      <td>2.0</td>\n",
       "      <td>NaN</td>\n",
       "    </tr>\n",
       "    <tr>\n",
       "      <td>11009</td>\n",
       "      <td>764.0</td>\n",
       "      <td>NaN</td>\n",
       "    </tr>\n",
       "    <tr>\n",
       "      <td>12953</td>\n",
       "      <td>70.0</td>\n",
       "      <td>NaN</td>\n",
       "    </tr>\n",
       "    <tr>\n",
       "      <td>13530</td>\n",
       "      <td>763.0</td>\n",
       "      <td>NaN</td>\n",
       "    </tr>\n",
       "    <tr>\n",
       "      <td>17547</td>\n",
       "      <td>21.0</td>\n",
       "      <td>NaN</td>\n",
       "    </tr>\n",
       "    <tr>\n",
       "      <td>...</td>\n",
       "      <td>...</td>\n",
       "      <td>...</td>\n",
       "    </tr>\n",
       "    <tr>\n",
       "      <td>EA-2079</td>\n",
       "      <td>NaN</td>\n",
       "      <td>100.0</td>\n",
       "    </tr>\n",
       "    <tr>\n",
       "      <td>EA-2087</td>\n",
       "      <td>NaN</td>\n",
       "      <td>2.0</td>\n",
       "    </tr>\n",
       "    <tr>\n",
       "      <td>EA-2088</td>\n",
       "      <td>NaN</td>\n",
       "      <td>1.0</td>\n",
       "    </tr>\n",
       "    <tr>\n",
       "      <td>EA-2097</td>\n",
       "      <td>NaN</td>\n",
       "      <td>2.0</td>\n",
       "    </tr>\n",
       "    <tr>\n",
       "      <td>EA-2098</td>\n",
       "      <td>NaN</td>\n",
       "      <td>2.0</td>\n",
       "    </tr>\n",
       "  </tbody>\n",
       "</table>\n",
       "<p>9825 rows × 2 columns</p>\n",
       "</div>"
      ],
      "text/plain": [
       "          a_id   b_id\n",
       "1362       2.0    NaN\n",
       "11009    764.0    NaN\n",
       "12953     70.0    NaN\n",
       "13530    763.0    NaN\n",
       "17547     21.0    NaN\n",
       "...        ...    ...\n",
       "EA-2079    NaN  100.0\n",
       "EA-2087    NaN    2.0\n",
       "EA-2088    NaN    1.0\n",
       "EA-2097    NaN    2.0\n",
       "EA-2098    NaN    2.0\n",
       "\n",
       "[9825 rows x 2 columns]"
      ]
     },
     "execution_count": 123,
     "metadata": {},
     "output_type": "execute_result"
    }
   ],
   "source": [
    "lda400_acount.append(lda400_bcount)"
   ]
  },
  {
   "cell_type": "code",
   "execution_count": 79,
   "metadata": {},
   "outputs": [],
   "source": [
    "import re"
   ]
  },
  {
   "cell_type": "code",
   "execution_count": 89,
   "metadata": {},
   "outputs": [],
   "source": [
    "def Get_ID(ival):\n",
    "    return(re.sub('_.*|--.*','',ival))"
   ]
  },
  {
   "cell_type": "code",
   "execution_count": 91,
   "metadata": {},
   "outputs": [],
   "source": [
    "meta_corpus['PROJECT_ID'] = meta_corpus[0].apply(Get_ID)"
   ]
  },
  {
   "cell_type": "code",
   "execution_count": 96,
   "metadata": {},
   "outputs": [
    {
     "data": {
      "text/html": [
       "<div>\n",
       "<style scoped>\n",
       "    .dataframe tbody tr th:only-of-type {\n",
       "        vertical-align: middle;\n",
       "    }\n",
       "\n",
       "    .dataframe tbody tr th {\n",
       "        vertical-align: top;\n",
       "    }\n",
       "\n",
       "    .dataframe thead th {\n",
       "        text-align: right;\n",
       "    }\n",
       "</style>\n",
       "<table border=\"1\" class=\"dataframe\">\n",
       "  <thead>\n",
       "    <tr style=\"text-align: right;\">\n",
       "      <th></th>\n",
       "      <th>a</th>\n",
       "      <th>b</th>\n",
       "      <th>score</th>\n",
       "    </tr>\n",
       "  </thead>\n",
       "  <tbody>\n",
       "    <tr>\n",
       "      <td>0</td>\n",
       "      <td>11009--11009--11009_13574_FSPLT3_3964416.pdf.t...</td>\n",
       "      <td>13530--13530--13530_19310_FSPLT3_3986615.pdf.t...</td>\n",
       "      <td>542</td>\n",
       "    </tr>\n",
       "    <tr>\n",
       "      <td>1</td>\n",
       "      <td>11009--11009--11009_13574_FSPLT3_3964416.pdf.t...</td>\n",
       "      <td>20150224--20150224_Breckenridge Ski Resort Mul...</td>\n",
       "      <td>491</td>\n",
       "    </tr>\n",
       "    <tr>\n",
       "      <td>2</td>\n",
       "      <td>11009--11009--11009_13574_FSPLT3_3964416.pdf.t...</td>\n",
       "      <td>20150229--20150229_StonewallVegetationProjectF...</td>\n",
       "      <td>540</td>\n",
       "    </tr>\n",
       "    <tr>\n",
       "      <td>3</td>\n",
       "      <td>11009--11009--11009_13574_FSPLT3_3964416.pdf.t...</td>\n",
       "      <td>20150235--20150235_CRNM_final_EIS.pdf.txt--2</td>\n",
       "      <td>542</td>\n",
       "    </tr>\n",
       "    <tr>\n",
       "      <td>4</td>\n",
       "      <td>11009--11009--11009_13574_FSPLT3_3964416.pdf.t...</td>\n",
       "      <td>20150235--20150235_CRNM_final_Mgmt_Plan.pdf.tx...</td>\n",
       "      <td>542</td>\n",
       "    </tr>\n",
       "    <tr>\n",
       "      <td>...</td>\n",
       "      <td>...</td>\n",
       "      <td>...</td>\n",
       "      <td>...</td>\n",
       "    </tr>\n",
       "    <tr>\n",
       "      <td>2387138</td>\n",
       "      <td>EA-2090--EA-2090--FEA-2090-Marine-Geophysical-...</td>\n",
       "      <td>EA-2090--EA-2090--FEA-2090-Marine-Geophysical-...</td>\n",
       "      <td>623</td>\n",
       "    </tr>\n",
       "    <tr>\n",
       "      <td>2387139</td>\n",
       "      <td>EA-2090--EA-2090--FEA-2090-Marine-Geophysical-...</td>\n",
       "      <td>EA-2090--EA-2090--FEA-2090-Marine-Geophysical-...</td>\n",
       "      <td>474</td>\n",
       "    </tr>\n",
       "    <tr>\n",
       "      <td>2387141</td>\n",
       "      <td>EA-2090--EA-2090--FEA-2090-Marine-Geophysical-...</td>\n",
       "      <td>EA-2090--EA-2090--FEA-2090-Marine-Geophysical-...</td>\n",
       "      <td>413</td>\n",
       "    </tr>\n",
       "    <tr>\n",
       "      <td>2387145</td>\n",
       "      <td>EA-2097--EA-2097--fonsi-final-ea-2097-power-gr...</td>\n",
       "      <td>EA-2097--EA-2097--fonsi-final-ea-2097-power-gr...</td>\n",
       "      <td>723</td>\n",
       "    </tr>\n",
       "    <tr>\n",
       "      <td>2387146</td>\n",
       "      <td>EA-2097--EA-2097--fonsi-final-ea-2097-power-gr...</td>\n",
       "      <td>EA-2097--EA-2097--fonsi-final-ea-2097-power-gr...</td>\n",
       "      <td>531</td>\n",
       "    </tr>\n",
       "  </tbody>\n",
       "</table>\n",
       "<p>1834406 rows × 3 columns</p>\n",
       "</div>"
      ],
      "text/plain": [
       "                                                         a  \\\n",
       "0        11009--11009--11009_13574_FSPLT3_3964416.pdf.t...   \n",
       "1        11009--11009--11009_13574_FSPLT3_3964416.pdf.t...   \n",
       "2        11009--11009--11009_13574_FSPLT3_3964416.pdf.t...   \n",
       "3        11009--11009--11009_13574_FSPLT3_3964416.pdf.t...   \n",
       "4        11009--11009--11009_13574_FSPLT3_3964416.pdf.t...   \n",
       "...                                                    ...   \n",
       "2387138  EA-2090--EA-2090--FEA-2090-Marine-Geophysical-...   \n",
       "2387139  EA-2090--EA-2090--FEA-2090-Marine-Geophysical-...   \n",
       "2387141  EA-2090--EA-2090--FEA-2090-Marine-Geophysical-...   \n",
       "2387145  EA-2097--EA-2097--fonsi-final-ea-2097-power-gr...   \n",
       "2387146  EA-2097--EA-2097--fonsi-final-ea-2097-power-gr...   \n",
       "\n",
       "                                                         b  score  \n",
       "0        13530--13530--13530_19310_FSPLT3_3986615.pdf.t...    542  \n",
       "1        20150224--20150224_Breckenridge Ski Resort Mul...    491  \n",
       "2        20150229--20150229_StonewallVegetationProjectF...    540  \n",
       "3             20150235--20150235_CRNM_final_EIS.pdf.txt--2    542  \n",
       "4        20150235--20150235_CRNM_final_Mgmt_Plan.pdf.tx...    542  \n",
       "...                                                    ...    ...  \n",
       "2387138  EA-2090--EA-2090--FEA-2090-Marine-Geophysical-...    623  \n",
       "2387139  EA-2090--EA-2090--FEA-2090-Marine-Geophysical-...    474  \n",
       "2387141  EA-2090--EA-2090--FEA-2090-Marine-Geophysical-...    413  \n",
       "2387145  EA-2097--EA-2097--fonsi-final-ea-2097-power-gr...    723  \n",
       "2387146  EA-2097--EA-2097--fonsi-final-ea-2097-power-gr...    531  \n",
       "\n",
       "[1834406 rows x 3 columns]"
      ]
     },
     "execution_count": 96,
     "metadata": {},
     "output_type": "execute_result"
    }
   ],
   "source": [
    "lda400"
   ]
  },
  {
   "cell_type": "code",
   "execution_count": null,
   "metadata": {},
   "outputs": [],
   "source": [
    "re.match(lda400['a'][1])"
   ]
  },
  {
   "cell_type": "code",
   "execution_count": 45,
   "metadata": {},
   "outputs": [
    {
     "ename": "KeyError",
     "evalue": "\"word 'arsenic and lead' not in vocabulary\"",
     "output_type": "error",
     "traceback": [
      "\u001b[0;31m---------------------------------------------------------------------------\u001b[0m",
      "\u001b[0;31mKeyError\u001b[0m                                  Traceback (most recent call last)",
      "\u001b[0;32m<ipython-input-45-e77d12d814e2>\u001b[0m in \u001b[0;36m<module>\u001b[0;34m\u001b[0m\n\u001b[0;32m----> 1\u001b[0;31m \u001b[0mmodel\u001b[0m\u001b[0;34m.\u001b[0m\u001b[0mwv\u001b[0m\u001b[0;34m.\u001b[0m\u001b[0mmost_similar\u001b[0m\u001b[0;34m(\u001b[0m\u001b[0;34m[\u001b[0m\u001b[0;34m'arsenic and lead'\u001b[0m\u001b[0;34m]\u001b[0m\u001b[0;34m)\u001b[0m\u001b[0;34m\u001b[0m\u001b[0;34m\u001b[0m\u001b[0m\n\u001b[0m",
      "\u001b[0;32m~/opt/anaconda3/lib/python3.7/site-packages/gensim/models/keyedvectors.py\u001b[0m in \u001b[0;36mmost_similar\u001b[0;34m(self, positive, negative, topn, restrict_vocab, indexer)\u001b[0m\n\u001b[1;32m    551\u001b[0m                 \u001b[0mmean\u001b[0m\u001b[0;34m.\u001b[0m\u001b[0mappend\u001b[0m\u001b[0;34m(\u001b[0m\u001b[0mweight\u001b[0m \u001b[0;34m*\u001b[0m \u001b[0mword\u001b[0m\u001b[0;34m)\u001b[0m\u001b[0;34m\u001b[0m\u001b[0;34m\u001b[0m\u001b[0m\n\u001b[1;32m    552\u001b[0m             \u001b[0;32melse\u001b[0m\u001b[0;34m:\u001b[0m\u001b[0;34m\u001b[0m\u001b[0;34m\u001b[0m\u001b[0m\n\u001b[0;32m--> 553\u001b[0;31m                 \u001b[0mmean\u001b[0m\u001b[0;34m.\u001b[0m\u001b[0mappend\u001b[0m\u001b[0;34m(\u001b[0m\u001b[0mweight\u001b[0m \u001b[0;34m*\u001b[0m \u001b[0mself\u001b[0m\u001b[0;34m.\u001b[0m\u001b[0mword_vec\u001b[0m\u001b[0;34m(\u001b[0m\u001b[0mword\u001b[0m\u001b[0;34m,\u001b[0m \u001b[0muse_norm\u001b[0m\u001b[0;34m=\u001b[0m\u001b[0;32mTrue\u001b[0m\u001b[0;34m)\u001b[0m\u001b[0;34m)\u001b[0m\u001b[0;34m\u001b[0m\u001b[0;34m\u001b[0m\u001b[0m\n\u001b[0m\u001b[1;32m    554\u001b[0m                 \u001b[0;32mif\u001b[0m \u001b[0mword\u001b[0m \u001b[0;32min\u001b[0m \u001b[0mself\u001b[0m\u001b[0;34m.\u001b[0m\u001b[0mvocab\u001b[0m\u001b[0;34m:\u001b[0m\u001b[0;34m\u001b[0m\u001b[0;34m\u001b[0m\u001b[0m\n\u001b[1;32m    555\u001b[0m                     \u001b[0mall_words\u001b[0m\u001b[0;34m.\u001b[0m\u001b[0madd\u001b[0m\u001b[0;34m(\u001b[0m\u001b[0mself\u001b[0m\u001b[0;34m.\u001b[0m\u001b[0mvocab\u001b[0m\u001b[0;34m[\u001b[0m\u001b[0mword\u001b[0m\u001b[0;34m]\u001b[0m\u001b[0;34m.\u001b[0m\u001b[0mindex\u001b[0m\u001b[0;34m)\u001b[0m\u001b[0;34m\u001b[0m\u001b[0;34m\u001b[0m\u001b[0m\n",
      "\u001b[0;32m~/opt/anaconda3/lib/python3.7/site-packages/gensim/models/keyedvectors.py\u001b[0m in \u001b[0;36mword_vec\u001b[0;34m(self, word, use_norm)\u001b[0m\n\u001b[1;32m    466\u001b[0m             \u001b[0;32mreturn\u001b[0m \u001b[0mresult\u001b[0m\u001b[0;34m\u001b[0m\u001b[0;34m\u001b[0m\u001b[0m\n\u001b[1;32m    467\u001b[0m         \u001b[0;32melse\u001b[0m\u001b[0;34m:\u001b[0m\u001b[0;34m\u001b[0m\u001b[0;34m\u001b[0m\u001b[0m\n\u001b[0;32m--> 468\u001b[0;31m             \u001b[0;32mraise\u001b[0m \u001b[0mKeyError\u001b[0m\u001b[0;34m(\u001b[0m\u001b[0;34m\"word '%s' not in vocabulary\"\u001b[0m \u001b[0;34m%\u001b[0m \u001b[0mword\u001b[0m\u001b[0;34m)\u001b[0m\u001b[0;34m\u001b[0m\u001b[0;34m\u001b[0m\u001b[0m\n\u001b[0m\u001b[1;32m    469\u001b[0m \u001b[0;34m\u001b[0m\u001b[0m\n\u001b[1;32m    470\u001b[0m     \u001b[0;32mdef\u001b[0m \u001b[0mget_vector\u001b[0m\u001b[0;34m(\u001b[0m\u001b[0mself\u001b[0m\u001b[0;34m,\u001b[0m \u001b[0mword\u001b[0m\u001b[0;34m)\u001b[0m\u001b[0;34m:\u001b[0m\u001b[0;34m\u001b[0m\u001b[0;34m\u001b[0m\u001b[0m\n",
      "\u001b[0;31mKeyError\u001b[0m: \"word 'arsenic and lead' not in vocabulary\""
     ]
    }
   ],
   "source": [
    "model.wv.most_similar(['arsenic and lead'])"
   ]
  },
  {
   "cell_type": "code",
   "execution_count": 14,
   "metadata": {},
   "outputs": [],
   "source": [
    "ranks = []\n",
    "second_ranks = []\n",
    "#for doc_id in range(len(train_corpus)):\n",
    "for doc_id in range(2000):\n",
    "    inferred_vector = model.infer_vector(train_corpus[doc_id].words)\n",
    "    sims = model.docvecs.most_similar([inferred_vector], topn=len(model.docvecs))\n",
    "    rank = [docid for docid, sim in sims].index(doc_id)\n",
    "    ranks.append(rank)\n",
    "    second_ranks.append(sims[1])"
   ]
  },
  {
   "cell_type": "code",
   "execution_count": 15,
   "metadata": {},
   "outputs": [
    {
     "name": "stdout",
     "output_type": "stream",
     "text": [
      "Counter({0: 38, 1: 18, 5: 11, 11: 9, 3: 9, 2: 7, 13: 7, 25: 6, 4: 6, 21: 6, 17: 5, 43: 5, 71: 5, 9: 5, 6: 5, 46: 5, 29: 5, 77: 5, 7: 4, 20: 4, 59: 4, 19: 4, 83: 4, 12: 4, 51: 4, 18: 4, 27: 4, 34: 4, 8: 4, 14: 4, 97: 4, 36: 4, 62: 3, 295: 3, 146: 3, 10: 3, 150: 3, 75: 3, 356: 3, 54: 3, 15: 3, 23: 3, 213: 3, 345: 3, 52: 3, 497: 3, 233: 3, 81: 3, 133: 3, 117: 3, 297: 3, 339: 3, 392: 2, 1786: 2, 3959: 2, 22: 2, 7724: 2, 745: 2, 149: 2, 1444: 2, 285: 2, 2533: 2, 42: 2, 30: 2, 2645: 2, 231: 2, 555: 2, 584: 2, 208: 2, 293: 2, 4058: 2, 1096: 2, 1005: 2, 4217: 2, 7964: 2, 35: 2, 200: 2, 728: 2, 2780: 2, 568: 2, 1141: 2, 179: 2, 108: 2, 391: 2, 66: 2, 101: 2, 191: 2, 3749: 2, 1169: 2, 41: 2, 1774: 2, 868: 2, 792: 2, 24: 2, 147: 2, 911: 2, 98: 2, 708: 2, 56: 2, 508: 2, 16: 2, 621: 2, 1468: 2, 1633: 2, 498: 2, 518: 2, 132: 2, 441: 2, 175: 2, 461: 2, 1579: 2, 125: 2, 313: 2, 49: 2, 368: 2, 85: 2, 319: 2, 215: 2, 514: 2, 105: 2, 236: 2, 1318: 2, 1791: 2, 84: 2, 19464: 2, 192: 2, 121: 2, 5621: 2, 669: 2, 1932: 2, 432: 2, 438: 2, 100: 2, 1203: 2, 32: 2, 86: 2, 158: 2, 821: 2, 3187: 2, 131: 2, 80: 2, 2907: 2, 8112: 2, 113: 2, 399: 2, 148: 2, 1651: 2, 952: 2, 304: 2, 1720: 2, 12916: 2, 573: 2, 72: 2, 22492: 2, 262: 2, 73: 2, 1442: 1, 40: 1, 1422: 1, 124: 1, 839: 1, 3072: 1, 3586: 1, 334: 1, 43788: 1, 254: 1, 1253: 1, 512: 1, 99: 1, 3113: 1, 6832: 1, 8098: 1, 15480: 1, 4419: 1, 89521: 1, 8781: 1, 22584: 1, 269: 1, 1793: 1, 142: 1, 16057: 1, 2548: 1, 859: 1, 3794: 1, 93: 1, 3455: 1, 49114: 1, 1070: 1, 283: 1, 12222: 1, 783: 1, 782: 1, 7866: 1, 3196: 1, 1480: 1, 70: 1, 808: 1, 15019: 1, 128: 1, 14333: 1, 19633: 1, 256: 1, 64: 1, 470: 1, 246: 1, 2173: 1, 153: 1, 3430: 1, 994: 1, 1379: 1, 306: 1, 18052: 1, 10364: 1, 6241: 1, 3039: 1, 7085: 1, 12319: 1, 14316: 1, 104129: 1, 3920: 1, 102: 1, 385: 1, 31762: 1, 10883: 1, 10340: 1, 2104: 1, 9461: 1, 402: 1, 1650: 1, 2516: 1, 2062: 1, 2332: 1, 501: 1, 7743: 1, 12112: 1, 11076: 1, 23758: 1, 6562: 1, 6705: 1, 1440: 1, 9592: 1, 228: 1, 77676: 1, 21611: 1, 463: 1, 39789: 1, 83688: 1, 949: 1, 1610: 1, 1036: 1, 47127: 1, 5825: 1, 6435: 1, 18220: 1, 8100: 1, 5126: 1, 5372: 1, 9875: 1, 14023: 1, 349: 1, 3380: 1, 260: 1, 2550: 1, 1937: 1, 27364: 1, 5616: 1, 28567: 1, 10105: 1, 7220: 1, 5327: 1, 11737: 1, 13282: 1, 2863: 1, 1433: 1, 3549: 1, 91411: 1, 36106: 1, 66698: 1, 6012: 1, 33672: 1, 10231: 1, 30185: 1, 3225: 1, 12679: 1, 110862: 1, 1220: 1, 8492: 1, 18344: 1, 1328: 1, 5395: 1, 13050: 1, 5876: 1, 1165: 1, 1465: 1, 24069: 1, 1942: 1, 32177: 1, 2799: 1, 99399: 1, 21965: 1, 13509: 1, 11573: 1, 19742: 1, 16557: 1, 9660: 1, 11845: 1, 90: 1, 277: 1, 14397: 1, 465: 1, 5462: 1, 1256: 1, 133417: 1, 684: 1, 2487: 1, 118952: 1, 266: 1, 384: 1, 2269: 1, 9993: 1, 8563: 1, 61151: 1, 16078: 1, 3261: 1, 18049: 1, 10005: 1, 2255: 1, 2471: 1, 2747: 1, 1742: 1, 418: 1, 237: 1, 268: 1, 2781: 1, 217: 1, 32004: 1, 10393: 1, 10732: 1, 21079: 1, 2948: 1, 934: 1, 57274: 1, 29643: 1, 33929: 1, 2380: 1, 3766: 1, 13385: 1, 1040: 1, 35637: 1, 5201: 1, 16745: 1, 2021: 1, 442: 1, 970: 1, 92: 1, 2075: 1, 13354: 1, 37062: 1, 5268: 1, 26808: 1, 559: 1, 5026: 1, 2670: 1, 225: 1, 401: 1, 409: 1, 1305: 1, 5700: 1, 6772: 1, 32325: 1, 3986: 1, 1045: 1, 4865: 1, 15071: 1, 3865: 1, 250: 1, 9596: 1, 3878: 1, 12567: 1, 354: 1, 3465: 1, 7068: 1, 10135: 1, 14016: 1, 1508: 1, 1163: 1, 1179: 1, 4886: 1, 17495: 1, 4918: 1, 3249: 1, 358: 1, 219: 1, 11668: 1, 14133: 1, 296: 1, 38092: 1, 605: 1, 1107: 1, 3173: 1, 3737: 1, 1408: 1, 6357: 1, 14554: 1, 23595: 1, 104: 1, 9138: 1, 7897: 1, 63240: 1, 2215: 1, 2267: 1, 3154: 1, 4942: 1, 23243: 1, 6590: 1, 10111: 1, 3934: 1, 4613: 1, 5386: 1, 12297: 1, 58253: 1, 32180: 1, 69914: 1, 979: 1, 19109: 1, 37829: 1, 900: 1, 15836: 1, 46464: 1, 72718: 1, 52422: 1, 35368: 1, 14073: 1, 12490: 1, 35727: 1, 24853: 1, 65337: 1, 3438: 1, 19036: 1, 606: 1, 143: 1, 16505: 1, 137: 1, 79: 1, 140: 1, 471: 1, 6910: 1, 350: 1, 3144: 1, 4186: 1, 1543: 1, 473: 1, 144: 1, 4766: 1, 300: 1, 17790: 1, 2428: 1, 768: 1, 30671: 1, 3387: 1, 44776: 1, 13960: 1, 109675: 1, 1002: 1, 27121: 1, 17560: 1, 117598: 1, 8778: 1, 40802: 1, 62532: 1, 52476: 1, 21310: 1, 2909: 1, 9890: 1, 20219: 1, 2193: 1, 8970: 1, 5203: 1, 1075: 1, 43790: 1, 997: 1, 7293: 1, 60155: 1, 37923: 1, 1934: 1, 67: 1, 111: 1, 1104: 1, 1674: 1, 335: 1, 1083: 1, 17899: 1, 20260: 1, 11403: 1, 8646: 1, 20543: 1, 554: 1, 6563: 1, 4908: 1, 36272: 1, 831: 1, 274: 1, 2204: 1, 428: 1, 541: 1, 2626: 1, 57: 1, 467: 1, 1715: 1, 2078: 1, 37: 1, 138: 1, 790: 1, 918: 1, 5167: 1, 8010: 1, 172: 1, 12821: 1, 11254: 1, 4969: 1, 16933: 1, 1346: 1, 12049: 1, 11016: 1, 22322: 1, 193: 1, 362: 1, 860: 1, 1134: 1, 754: 1, 4072: 1, 2211: 1, 2513: 1, 1634: 1, 31940: 1, 1103: 1, 2235: 1, 17572: 1, 4573: 1, 765: 1, 486: 1, 2585: 1, 2170: 1, 5003: 1, 2316: 1, 8955: 1, 60: 1, 1209: 1, 1336: 1, 3417: 1, 120399: 1, 2044: 1, 87526: 1, 10521: 1, 259: 1, 28067: 1, 1463: 1, 33509: 1, 2469: 1, 10639: 1, 71258: 1, 1375: 1, 5077: 1, 34232: 1, 37613: 1, 11714: 1, 40071: 1, 12088: 1, 86132: 1, 36235: 1, 2419: 1, 24100: 1, 386: 1, 4900: 1, 8201: 1, 11086: 1, 3232: 1, 7884: 1, 32558: 1, 59948: 1, 56927: 1, 2324: 1, 46956: 1, 10685: 1, 4549: 1, 33130: 1, 548: 1, 23394: 1, 26715: 1, 3339: 1, 47388: 1, 62886: 1, 42299: 1, 57977: 1, 17026: 1, 55991: 1, 49082: 1, 12724: 1, 47401: 1, 157549: 1, 184096: 1, 220286: 1, 209037: 1, 111393: 1, 181296: 1, 142154: 1, 22181: 1, 7460: 1, 11825: 1, 3341: 1, 14220: 1, 1187: 1, 322: 1, 393: 1, 887: 1, 3292: 1, 139: 1, 2496: 1, 16340: 1, 1629: 1, 157: 1, 2227: 1, 1568: 1, 255: 1, 28783: 1, 7362: 1, 21040: 1, 31050: 1, 453: 1, 1160: 1, 511: 1, 2635: 1, 543: 1, 17945: 1, 17236: 1, 4202: 1, 3639: 1, 36432: 1, 197: 1, 1460: 1, 4201: 1, 3374: 1, 1364: 1, 1738: 1, 1280: 1, 212: 1, 12486: 1, 2479: 1, 64922: 1, 8795: 1, 2475: 1, 18802: 1, 19863: 1, 993: 1, 1732: 1, 1505: 1, 145000: 1, 94: 1, 4763: 1, 4743: 1, 57863: 1, 1238: 1, 27607: 1, 110115: 1, 49722: 1, 34322: 1, 17033: 1, 959: 1, 1037: 1, 8615: 1, 238309: 1, 50031: 1, 8357: 1, 275435: 1, 271618: 1, 6853: 1, 24062: 1, 5437: 1, 1381: 1, 4524: 1, 9469: 1, 194: 1, 311: 1, 2918: 1, 6714: 1, 35020: 1, 4159: 1, 4466: 1, 9412: 1, 3500: 1, 264: 1, 61205: 1, 8083: 1, 21399: 1, 325: 1, 947: 1, 2325: 1, 166: 1, 8058: 1, 19252: 1, 4318: 1, 15587: 1, 2282: 1, 5988: 1, 5095: 1, 376: 1, 29142: 1, 1567: 1, 2675: 1, 3649: 1, 373: 1, 2241: 1, 28: 1, 2107: 1, 5075: 1, 6552: 1, 6153: 1, 14205: 1, 492: 1, 1042: 1, 3480: 1, 1098: 1, 793: 1, 1578: 1, 1270: 1, 44368: 1, 43629: 1, 204: 1, 8227: 1, 55420: 1, 27360: 1, 92959: 1, 5320: 1, 15543: 1, 579: 1, 1415: 1, 796: 1, 1834: 1, 758: 1, 6795: 1, 84471: 1, 4587: 1, 18666: 1, 3240: 1, 88600: 1, 66523: 1, 16453: 1, 14593: 1, 59351: 1, 1076: 1, 178: 1, 1081: 1, 965: 1, 37305: 1, 11623: 1, 13755: 1, 55893: 1, 458: 1, 2301: 1, 278: 1, 21613: 1, 8424: 1, 6546: 1, 729: 1, 519: 1, 135554: 1, 117233: 1, 166586: 1, 29303: 1, 9524: 1, 3473: 1, 13051: 1, 1329: 1, 1925: 1, 1688: 1, 162: 1, 26443: 1, 1980: 1, 17677: 1, 2886: 1, 57313: 1, 34412: 1, 14242: 1, 9062: 1, 136: 1, 7038: 1, 852: 1, 48506: 1, 4169: 1, 9988: 1, 1154: 1, 14616: 1, 3321: 1, 998: 1, 3573: 1, 1039: 1, 4728: 1, 18041: 1, 6206: 1, 218: 1, 57383: 1, 4393: 1, 657: 1, 1013: 1, 46594: 1, 25274: 1, 28318: 1, 3450: 1, 42116: 1, 10397: 1, 16169: 1, 12221: 1, 69675: 1, 16722: 1, 12548: 1, 241: 1, 10973: 1, 2091: 1, 11948: 1, 4990: 1, 14935: 1, 3606: 1, 82014: 1, 32461: 1, 20226: 1, 6656: 1, 10449: 1, 6946: 1, 26066: 1, 12147: 1, 23226: 1, 13982: 1, 66719: 1, 958: 1, 12765: 1, 12453: 1, 5196: 1, 4601: 1, 19009: 1, 5389: 1, 1199: 1, 14246: 1, 11802: 1, 186: 1, 18425: 1, 1621: 1, 770: 1, 2424: 1, 10305: 1, 1785: 1, 4761: 1, 26755: 1, 11240: 1, 8066: 1, 531: 1, 3357: 1, 505: 1, 2854: 1, 536: 1, 3544: 1, 20049: 1, 8087: 1, 16875: 1, 206: 1, 2570: 1, 5968: 1, 29227: 1, 39876: 1, 28498: 1, 26401: 1, 25190: 1, 2335: 1, 2628: 1, 552: 1, 7122: 1, 27343: 1, 1123: 1, 134178: 1, 1653: 1, 19526: 1, 4629: 1, 20872: 1, 112824: 1, 85794: 1, 18597: 1, 156562: 1, 16847: 1, 40883: 1, 25807: 1, 1485: 1, 21483: 1, 68611: 1, 42685: 1, 43404: 1, 43921: 1, 111515: 1, 190251: 1, 11136: 1, 178075: 1, 28328: 1, 46697: 1, 48519: 1, 208870: 1, 3188: 1, 8062: 1, 615: 1, 34686: 1, 96727: 1, 23618: 1, 13866: 1, 82: 1, 1158: 1, 5744: 1, 19289: 1, 3378: 1, 82818: 1, 5953: 1, 15191: 1, 133018: 1, 15681: 1, 33180: 1, 16227: 1, 1105: 1, 7670: 1, 77995: 1, 37850: 1, 22907: 1, 35176: 1, 66502: 1, 159690: 1, 49868: 1, 15867: 1, 43247: 1, 69799: 1, 5253: 1, 11614: 1, 157592: 1, 29006: 1, 53538: 1, 454: 1, 6537: 1, 152868: 1, 106228: 1, 99896: 1, 158460: 1, 69681: 1, 13100: 1, 10198: 1, 19360: 1, 158080: 1, 2131: 1, 34128: 1, 8611: 1, 15300: 1, 11311: 1, 1899: 1, 4053: 1, 3054: 1, 24464: 1, 2284: 1, 19161: 1, 34271: 1, 2572: 1, 2001: 1, 6688: 1, 1194: 1, 1954: 1, 422: 1, 4206: 1, 1235: 1, 37018: 1, 1878: 1, 3001: 1, 674: 1, 910: 1, 282: 1, 5609: 1, 1864: 1, 1087: 1, 43610: 1, 64410: 1, 2127: 1, 21445: 1, 6730: 1, 957: 1, 7260: 1, 4539: 1, 1489: 1, 4104: 1, 1244: 1, 10458: 1, 12014: 1, 35861: 1, 28146: 1, 56870: 1, 14512: 1, 10314: 1, 53648: 1, 6627: 1, 8101: 1, 92413: 1, 33280: 1, 41134: 1, 25673: 1, 81502: 1, 110581: 1, 103643: 1, 56702: 1, 154368: 1, 82432: 1, 61947: 1, 7424: 1, 3336: 1, 33670: 1, 29193: 1, 40687: 1, 81555: 1, 62555: 1, 16813: 1, 4849: 1, 10830: 1, 37480: 1, 18960: 1, 37872: 1, 8755: 1, 81747: 1, 174630: 1, 66087: 1, 60344: 1, 64938: 1, 19178: 1, 35662: 1, 2690: 1, 834: 1, 38735: 1, 28656: 1, 55185: 1, 33253: 1, 67215: 1, 3527: 1, 27739: 1, 23477: 1, 18535: 1, 4560: 1, 11812: 1, 58369: 1, 35985: 1, 21264: 1, 8330: 1, 5692: 1, 65939: 1, 30750: 1, 198932: 1, 14702: 1, 140235: 1, 37198: 1, 14859: 1, 141: 1, 27500: 1, 30618: 1, 9004: 1, 785: 1, 4731: 1, 110903: 1, 101323: 1, 38079: 1, 56547: 1, 52704: 1, 51356: 1, 71130: 1, 42377: 1, 95332: 1, 97426: 1, 34201: 1, 100568: 1, 88435: 1, 88431: 1, 4937: 1, 961: 1, 326: 1, 53414: 1, 140342: 1, 10483: 1, 5090: 1, 15536: 1, 13434: 1, 7103: 1, 37785: 1, 31607: 1, 7909: 1, 5536: 1, 113757: 1, 50921: 1, 135115: 1, 115903: 1, 204579: 1, 161910: 1, 35252: 1, 51734: 1, 35775: 1, 252: 1, 17516: 1, 4507: 1, 833: 1, 45177: 1, 24597: 1, 107734: 1, 67929: 1, 158089: 1, 89286: 1, 149586: 1, 50862: 1, 55072: 1, 153783: 1, 48330: 1, 111668: 1, 65693: 1, 39021: 1, 109888: 1, 201127: 1, 84812: 1, 68470: 1, 25940: 1, 95624: 1, 51484: 1, 34348: 1, 5351: 1, 1202: 1, 2210: 1, 8108: 1, 11232: 1, 35559: 1, 14666: 1, 77987: 1, 14510: 1, 3084: 1, 12240: 1, 1269: 1, 446: 1, 1131: 1, 17020: 1, 3176: 1, 1173: 1, 923: 1, 21088: 1, 15600: 1, 22598: 1, 7129: 1, 3301: 1, 7412: 1, 3997: 1, 29086: 1, 34362: 1, 17460: 1, 15177: 1, 11347: 1, 64447: 1, 40345: 1, 48538: 1, 5382: 1, 7774: 1, 21795: 1, 108994: 1, 73804: 1, 17972: 1, 4288: 1, 17726: 1, 32114: 1, 49840: 1, 1988: 1, 4002: 1, 1744: 1, 12139: 1, 6260: 1, 1582: 1, 906: 1, 105874: 1, 9242: 1, 69206: 1, 494: 1, 317: 1, 1687: 1, 8705: 1, 5886: 1, 18730: 1, 58942: 1, 3310: 1, 30483: 1, 43112: 1, 49879: 1, 33012: 1, 191676: 1, 35447: 1, 134892: 1, 108557: 1, 13041: 1, 12012: 1, 264655: 1, 73872: 1, 10492: 1, 166027: 1, 56714: 1, 183683: 1, 76309: 1, 64477: 1, 33568: 1, 1024: 1, 13597: 1, 7477: 1, 2292: 1, 1520: 1, 576: 1, 715: 1, 24942: 1, 3535: 1, 2714: 1, 184: 1, 1874: 1, 98802: 1, 101808: 1, 15562: 1, 102451: 1, 496: 1, 110385: 1, 9512: 1, 590: 1, 36214: 1, 142584: 1, 37162: 1, 192298: 1, 51329: 1, 15788: 1, 15021: 1, 5650: 1, 1660: 1, 329: 1, 8107: 1, 89662: 1, 59339: 1, 25624: 1, 2614: 1, 19726: 1, 25725: 1, 11021: 1, 2850: 1, 24023: 1, 528: 1, 500: 1, 2041: 1, 44211: 1, 33620: 1, 76907: 1, 31401: 1, 39856: 1, 37178: 1, 11135: 1, 27376: 1, 34575: 1, 41971: 1, 202212: 1, 4353: 1, 1788: 1, 13278: 1, 5613: 1, 701: 1, 51443: 1, 12143: 1, 12698: 1, 2603: 1, 13073: 1, 1951: 1, 1271: 1, 87655: 1, 102360: 1, 96990: 1, 987: 1, 8481: 1, 3202: 1, 4356: 1, 58839: 1, 42228: 1, 116288: 1, 8677: 1, 54597: 1, 2393: 1, 15821: 1, 29797: 1, 2638: 1, 26539: 1, 8597: 1, 5499: 1, 63: 1, 8204: 1, 61: 1, 1457: 1, 155966: 1, 33541: 1, 18972: 1, 3994: 1, 120: 1, 641: 1, 69905: 1, 47514: 1, 6650: 1, 73641: 1, 15386: 1, 13799: 1, 22003: 1, 3099: 1, 5979: 1, 205: 1, 8031: 1, 68427: 1, 12761: 1, 10482: 1, 43600: 1, 73812: 1, 31261: 1, 1251: 1, 158188: 1, 9519: 1, 81944: 1, 187223: 1, 65160: 1, 108221: 1, 25157: 1, 22076: 1, 169546: 1, 104467: 1, 91859: 1, 111533: 1, 30375: 1, 79585: 1, 87973: 1, 5695: 1, 19345: 1, 35551: 1, 2888: 1, 31974: 1, 23840: 1, 315: 1, 30059: 1, 3856: 1, 9588: 1, 9889: 1, 31387: 1, 580: 1, 53950: 1, 901: 1, 751: 1, 2486: 1, 525: 1, 10452: 1, 1414: 1, 61901: 1, 1403: 1, 878: 1, 9858: 1, 3307: 1, 15639: 1, 15718: 1, 14885: 1, 188139: 1, 41886: 1, 35477: 1, 28987: 1, 277307: 1, 177481: 1, 17147: 1, 188989: 1, 60654: 1, 12153: 1, 22989: 1, 127526: 1, 825: 1, 37554: 1, 22887: 1, 2308: 1, 546: 1, 95: 1, 47276: 1, 11053: 1, 290: 1, 3175: 1, 2783: 1, 1566: 1, 5283: 1, 748: 1, 15455: 1, 885: 1, 583: 1, 1761: 1, 1773: 1, 9029: 1, 7554: 1, 17848: 1, 292: 1, 420: 1, 6352: 1, 273: 1, 16054: 1, 8831: 1, 69130: 1, 3502: 1, 13440: 1, 15794: 1, 1667: 1, 9733: 1, 70754: 1, 32560: 1, 28727: 1, 443: 1, 1071: 1, 846: 1, 4435: 1, 3133: 1, 8314: 1, 102977: 1, 107496: 1, 67935: 1, 54795: 1, 7242: 1, 245: 1, 459: 1, 4024: 1, 7363: 1, 54468: 1, 13758: 1, 1011: 1, 4805: 1, 88779: 1, 22635: 1, 50860: 1, 7705: 1, 14458: 1, 2034: 1, 34076: 1, 13115: 1, 100422: 1, 347: 1, 287: 1, 484: 1, 22274: 1, 298: 1, 17014: 1, 23431: 1, 48172: 1, 222211: 1, 2072: 1, 4167: 1, 1835: 1, 271: 1, 11729: 1, 3445: 1, 78881: 1, 395: 1, 8246: 1, 17232: 1, 38: 1, 26722: 1, 667: 1, 2818: 1, 1072: 1, 3083: 1, 37446: 1, 31: 1, 18321: 1, 1572: 1, 5100: 1, 53598: 1, 4602: 1, 6240: 1, 63349: 1, 762: 1, 1450: 1, 21824: 1, 30539: 1, 1058: 1, 9345: 1, 2653: 1, 1390: 1, 1755: 1, 13555: 1, 3353: 1, 3019: 1, 526: 1, 805: 1, 1128: 1, 1261: 1, 1743: 1, 15573: 1, 563: 1, 45539: 1, 135: 1, 36905: 1, 74: 1, 6875: 1, 2761: 1, 42093: 1, 34078: 1, 22514: 1, 56522: 1, 52271: 1, 1027: 1, 122: 1, 24549: 1, 10028: 1, 45: 1, 115: 1, 11350: 1, 48364: 1, 25702: 1, 2010: 1, 1838: 1, 117098: 1, 1232: 1, 99545: 1, 2459: 1, 4552: 1, 5145: 1, 5634: 1, 32804: 1, 132755: 1, 2121: 1, 22085: 1, 48197: 1, 29180: 1, 70020: 1, 183673: 1, 340: 1, 1790: 1, 93757: 1, 18856: 1, 11843: 1, 9211: 1, 44833: 1, 17902: 1, 16567: 1, 30321: 1, 93234: 1, 806: 1, 45005: 1, 86866: 1, 72911: 1, 143341: 1, 30376: 1, 45576: 1, 107702: 1, 148552: 1, 128595: 1, 3068: 1, 71233: 1, 108533: 1, 8621: 1, 18943: 1, 34705: 1, 66797: 1, 15977: 1, 11308: 1, 9600: 1, 4490: 1, 2116: 1, 675: 1, 19260: 1, 11402: 1, 34043: 1, 17988: 1, 61441: 1, 4681: 1, 1604: 1, 7240: 1, 28746: 1, 6526: 1, 7202: 1, 45775: 1, 45806: 1, 17822: 1, 16368: 1, 850: 1, 48585: 1, 4130: 1, 12824: 1, 174: 1, 1585: 1, 68: 1, 787: 1, 4720: 1, 2313: 1, 17698: 1, 8908: 1, 17214: 1, 2395: 1, 23171: 1, 7563: 1, 9697: 1, 777: 1, 1813: 1, 10381: 1, 100309: 1, 3229: 1, 58899: 1, 42265: 1, 65193: 1, 4592: 1, 43572: 1, 21690: 1, 52668: 1, 838: 1, 535: 1, 7401: 1, 1428: 1, 722: 1, 17481: 1, 58: 1, 2672: 1, 2006: 1, 5062: 1, 12834: 1, 663: 1, 1298: 1, 26: 1, 144256: 1, 4400: 1, 830: 1, 4934: 1, 179955: 1, 123: 1, 2224: 1, 537: 1, 310: 1, 263: 1, 202: 1, 33284: 1, 10209: 1, 12034: 1, 13728: 1, 902: 1, 364: 1, 1333: 1, 1035: 1, 1439: 1, 1533: 1, 5051: 1, 18973: 1, 2911: 1, 8654: 1, 279: 1, 478: 1, 12113: 1, 44: 1, 7798: 1, 6838: 1, 14680: 1, 87388: 1, 3423: 1, 18754: 1, 7239: 1, 89: 1, 1069: 1, 5653: 1, 12649: 1, 3342: 1, 21922: 1, 1752: 1, 483: 1, 4213: 1, 488: 1, 47: 1, 4462: 1, 893: 1, 24322: 1, 211: 1, 40376: 1, 7491: 1, 302: 1})\n"
     ]
    }
   ],
   "source": [
    "import collections\n",
    "\n",
    "counter = collections.Counter(ranks)\n",
    "print(counter)"
   ]
  },
  {
   "cell_type": "code",
   "execution_count": 16,
   "metadata": {},
   "outputs": [
    {
     "name": "stdout",
     "output_type": "stream",
     "text": [
      "Document (1999): «final environmental impact statement melvin sampson hatchery yakima basin coho project bull trout bull trout are species of char related to salmon and trout that prefer cold clean water they were listed as threatened under the esa in fr and spawn and rear in the upper portions of the yakima basin bull trout use the lower mainstem as migratory corridor the yakima river core area is designated as critical habitat for bull trout fr critical habitat in the core area includes the mainstem yakima river from its confluence with the columbia river upstream to the uppermost point of bull trout distribution including most tributaries in the basin the canal and bypass are not designated critical habitat for bull trout halupka the yakima river core area is part of the mid columbia recovery unit usfws the usfws identified local bull trout populations in the yakima river core area including ahtanum creek naches river tributaries american river rattlesnake creek and crow creek rimrock lake tributaries indian creek south fork tieton river and north fork tieton river bumping lake tributaries deep creek and bumping river cle elum lake tributaries cle elum river and waptus kachess lake tributaries box canyon creek and the upper kachess river keechelus lake gold creek and the yakima river upper yakima the teanaway river population is potentially extirpated and not currently included as local population these local bull trout populations spawn in headwater streams and also use lower reaches of the stream and larger rivers and or connected lakes as foraging migratory and overwintering areas known bull trout presence extends downstream to the confluence of the yakima and naches rivers with presumed presence to the mouth of the yakima river at the confluence with the mainstem columbia river reiss et al in the naches river basin stable bull trout population occupies the north and south forks of the tieton river spawning occurs above rm of the south fork tieton and about miles above clear lake in the north fork tieton newsome within the yakima core area some populations have access to reservoirs but many are restricted to habitats upstream or downstream of dams due to lack of fish passage facilities bull trout throughout the basin often face poor summer habitat conditions due to low flows and high instream temperatures resulting from irrigation withdrawals downstream of the confluence with the cle elum river the yakima river mainstem functions primarily as foraging migratory and overwintering habitat for bull trout bull trout are fish eating species and need an abundant supply of forage fish to maintain healthy populations they require cool water and temperatures between and are optimal sustained temperatures above begin to stress fish bjornn and reiser yakama nation bull trout exhibit several life history strategies in the yakima basin those populations isolated above dams exhibit resident or adfluvial migrating between tributary and reservoir lake life histories those populations below dams are typically fluvial migrating between mainstem river and tributaries most populations spawn from mid september to mid october but several spawn between august and early september or late october to early november usfws juveniles typically remain in their natal tributaries and begin migratory movements as subadults affected environment environmental consequences and mitigation measures fish»\n",
      "\n",
      "SIMILAR/DISSIMILAR DOCS PER MODEL Doc2Vec(dm/m,d50,n5,w5,mc4,s0.001,t3):\n",
      "\n",
      "MOST (1999, 0.7594394683837891): «final environmental impact statement melvin sampson hatchery yakima basin coho project bull trout bull trout are species of char related to salmon and trout that prefer cold clean water they were listed as threatened under the esa in fr and spawn and rear in the upper portions of the yakima basin bull trout use the lower mainstem as migratory corridor the yakima river core area is designated as critical habitat for bull trout fr critical habitat in the core area includes the mainstem yakima river from its confluence with the columbia river upstream to the uppermost point of bull trout distribution including most tributaries in the basin the canal and bypass are not designated critical habitat for bull trout halupka the yakima river core area is part of the mid columbia recovery unit usfws the usfws identified local bull trout populations in the yakima river core area including ahtanum creek naches river tributaries american river rattlesnake creek and crow creek rimrock lake tributaries indian creek south fork tieton river and north fork tieton river bumping lake tributaries deep creek and bumping river cle elum lake tributaries cle elum river and waptus kachess lake tributaries box canyon creek and the upper kachess river keechelus lake gold creek and the yakima river upper yakima the teanaway river population is potentially extirpated and not currently included as local population these local bull trout populations spawn in headwater streams and also use lower reaches of the stream and larger rivers and or connected lakes as foraging migratory and overwintering areas known bull trout presence extends downstream to the confluence of the yakima and naches rivers with presumed presence to the mouth of the yakima river at the confluence with the mainstem columbia river reiss et al in the naches river basin stable bull trout population occupies the north and south forks of the tieton river spawning occurs above rm of the south fork tieton and about miles above clear lake in the north fork tieton newsome within the yakima core area some populations have access to reservoirs but many are restricted to habitats upstream or downstream of dams due to lack of fish passage facilities bull trout throughout the basin often face poor summer habitat conditions due to low flows and high instream temperatures resulting from irrigation withdrawals downstream of the confluence with the cle elum river the yakima river mainstem functions primarily as foraging migratory and overwintering habitat for bull trout bull trout are fish eating species and need an abundant supply of forage fish to maintain healthy populations they require cool water and temperatures between and are optimal sustained temperatures above begin to stress fish bjornn and reiser yakama nation bull trout exhibit several life history strategies in the yakima basin those populations isolated above dams exhibit resident or adfluvial migrating between tributary and reservoir lake life histories those populations below dams are typically fluvial migrating between mainstem river and tributaries most populations spawn from mid september to mid october but several spawn between august and early september or late october to early november usfws juveniles typically remain in their natal tributaries and begin migratory movements as subadults affected environment environmental consequences and mitigation measures fish»\n",
      "\n",
      "SECOND-MOST (191972, 0.7300059795379639): «northwest training and testing final eis oeis october table post model acoustic effects quantification process is the sound source sonar other active acoustic source or explosives sonar and other active acoustic sources explosives is the activity preceded by multiple vessel is the activity preceded by multiple vessel activity or hovering helicopter activity or hovering helicopter species sensitive to human activity harbor species sensitive to human activity harbor porpoises and beaked whales are assumed to avoid the porpoises and beaked whales are assumed to avoid the activity area putting them out of the range to level activity area putting them out of the range to mortality harassment model estimated permanent threshold shift model estimated mortalities to these species during pts to these species during these activities is unlikely these activities are unlikely to actually occur and to actually occur and therefore are considered to be therefore are considered to be injuries animal is tts animal is assumed to move into the range of assumed to move into the range of potential injury potential tts the activities preceded by multiple vessel movements or the activities preceded by multiple vessel movements or hovering helicopters are listed in table in hovering helicopters are listed in table and table avoidance behavior and mitigation in avoidance behavior and mitigation measures as applied to explosions measures as applied to sonar and other active acoustic sources can lookouts observe the activity specific can lookouts observe the activity specific mitigation zone chapter up to and during the mitigation zone chapter up to and during the sound producing activity sound producing activity if lookouts are able to observe the mitigation zone up to if lookouts are able to observe the mitigation zone up to and during an explosion the explosive activity would be and during sound producing activity the sound halted or delayed if marine mammal is observed and producing activity would be halted or delayed if marine would not resume until the animal is thought to be out of mammal is observed and would not resume until the the mitigation zone per the mitigation procedures in animal is thought to be out of the mitigation zone per the chapter therefore model estimated mortalities and mitigation procedures in chapter therefore injuries are reduced by the portion of animals that are model estimated pts exposures are reduced by the likely to be seen mitigation effectiveness or portion of animals that are likely to be seen mitigation sightability any animals removed from the effectiveness or sightability any model estimated mortalities or injuries are instead animals removed from the model estimated pts are assumed to be injuries or behavioral disturbances instead assumed to be tts animal is assumed to move respectively animals are assumed to move into the into the range of tts range of lower effect the value is associated with the platform vessel or the value is associated with the platform vessel or aircraft with the dedicated lookout for activities with aircraft with the dedicated lookout for activities with lookouts on both platforms the higher is used for lookouts on both platforms the higher is used for analysis sightability values are provided above in table analysis sightability values are provided above in table the mitigation effectiveness values are provided the mitigation effectiveness values for activities in table in section avoidance involving explosions are provided in table in behavior and mitigation measures as applied to sonar section avoidance behavior and mitigation and other active acoustic sources as applied to explosives marine mammals»\n",
      "\n",
      "MEDIAN (195036, 0.19690480828285217): «chapter alternatives analysis transportation goal facilitate operation of the expanded regional link light rail system no build alternative under the no build alternative an omsf would not be built and light rail service would rely on the forest street operations and maintenance facility forest street omf which lacks the capacity to maintain and operate light rail fleet at planned service levels under sound transit mass transit guide the regional transit system plan for central puget sound st the forest street omf would have to serve the entire link light rail system including central link and st extensions to bellevue and redmond lynnwood and kent des moines the east link storage track would provide overnight storage and morning deployment of up to light rail vehicles lrvs but would not provide maintenance functions the no build alternative does not meet the goal of facilitating operation of the expanded light rail system and locating facility to provide efficient and reliable light rail service with fleet constrained to lrvs operating principally from the forest street omf link service would include fewer train cars and longer headways between trains minutes during peak periods which would reduce the system passenger capacity by more than compared to the build alternatives this would not meet projected demand and would likely result in passenger overcrowding on trains and station platforms to establish morning service on the eastside sound transit would have to deploy some trains from the forest street omf which would have to turn back at the international district and or northgate stations to reach the east operating line creating more operational disruptions and inefficiency the no build alternative could not maintain the hour nightly inspection and maintenance window approximately to because trains would have to be deployed earlier to serve the to morning peak period if all vehicles were stored at the forest street omf system failure during the morning deployment could trap the entire fleet and prevent service build alternatives assuming that the forest street omf would continue to provide inspection heavy repair and overhaul services each of the build alternatives would enable sound transit to meet st planned service levels the omsf would be located on either the north operating line or the east operating line to provide efficient and reliable light rail service below is description of the advantages and disadvantages of each build alternative in supporting the operation of the expanded link system the discussion focuses on distinctions related to site operations and deployment of lrvs table shows how the st fleet of lrvs approximately lrvs total would be stored at each facility the forest street omf would store enough lrvs to provide service for the lynnwood kent des moines line plus spare lrvs four car trains and spare lrvs for total of lrvs link light rail operations and maintenance satellite facility september final environmental impact statement»\n",
      "\n",
      "LEAST (50688, -0.34592995047569275): «portion of the nsl project in monroe county is within one of the same aqcrs northeast pennsylvania upper delaware valley interstate as the proposed constitution project millennium minisink compressor station project was placed into service in the minisink compressor station project involved the construction of compressor station and maintenance building in the town of minisink orange county new york the project was implemented as part of millennium plan to increase its capacity by million cubic feet per day between and the minisink compressor station project is more than miles from the proposed constitution project and is within one of the same aqcrs hudson valley intrastate the ned project is currently under development and began the ferc pre filing process on october tgp northeast energy direct ned project would involve upgrading its existing pipeline system in new york pennsylvania massachusetts new hampshire and connecticut to provide billion cubic feet of natural gas per day to the new england area preliminary project designs for the proposed ned project include miles of pipeline looped adjacent to the existing tgp line in pennsylvania miles of greenfield pipeline from troy pennsylvania to wright new york miles of greenfield pipeline from wright new york to dracut massachusetts and approximately miles of lateral or pipeline looping throughout pennsylvania new york massachusetts connecticut and new hampshire the ned project would also involve modifications to an existing compressor station the construction of new stations modifications to existing stations and construction of new compressor stations tgp anticipated construction start date is january with an in service date of november therefore construction of the ned project would not coincide or occur within the same general timeframe of the proposed constitution and iroquois projects however ongoing restoration activities associated with the constitution and iroquois projects could still be occurring during the anticipated construction schedule of the ned project since the ned project has just begun the pre filing process with the ferc the project may come to fruition may be denied by the commission could be delayed or could be withdrawn by the project sponsor if the ned project were approved by the commission there would be some cumulative impacts with the constitution project on resources such as wetlands streams vegetation and land use however the separation in time between the constitution and iroquois projects and the ned project would minimize the temporary impacts on certain resources the permanent impacts of these projects for example loss of forested lands could result in significant cumulative impacts construction would occur consecutively rather than simultaneously and areas disturbed by the constitution pipeline would be restored and stable prior to construction of the ned project as the same regulatory oversight by the ferc would occur in addition the ned project would be constructed and maintained in accordance with our approved procedures and other construction operation and mitigation measures that may be required by federal state or local permitting authorities further reducing the potential for cumulative impacts we estimate that the entire ned project could impact over acres during construction and about acres during operation as currently planned by tgp portions of the ned project would be collocated with constitution pipeline for portions of its route we analyzed two scenarios one with foot overlap between the permanent rights of way and one with no overlap between the two rights of way assuming no overlap the ned project along the constitution pipeline miles would impact this can be found at http elibrary ferc gov idmws file_list asp document_id calculation is an estimate assuming total project length of miles construction right of way of feet and permanent right of way of feet cumulative impacts»\n",
      "\n"
     ]
    }
   ],
   "source": [
    "print('Document ({}): «{}»\\n'.format(doc_id, ' '.join(train_corpus[doc_id].words)))\n",
    "print(u'SIMILAR/DISSIMILAR DOCS PER MODEL %s:\\n' % model)\n",
    "for label, index in [('MOST', 0), ('SECOND-MOST', 1), ('MEDIAN', len(sims)//2), ('LEAST', len(sims) - 1)]:\n",
    "    print(u'%s %s: «%s»\\n' % (label, sims[index], ' '.join(train_corpus[sims[index][0]].words)))"
   ]
  },
  {
   "cell_type": "code",
   "execution_count": 17,
   "metadata": {},
   "outputs": [
    {
     "name": "stdout",
     "output_type": "stream",
     "text": [
      "Train Document (395938): «summary resource effects from no action effects from modified proposed action aquatic species tree mortality caused by the bark beetle moderate degree of impact to rainbow brown epidemics could positively affect large and brook trout woody debris recruitment to stream may result in impacts to mountain sucker channels as trees fall colorado river cutthroat wood frog leopard tree mortality due to mountain pine beetle frog and boreal toad individuals but is not likely activity along stream courses could to result in loss of viability in the planning area reduce shading and potentially increase nor cause trend toward federal listing water temperatures botany forest activities and effects to rare plants rare plants and habitats may be affected directly as result of these activities would or indirectly by soil disturbance forest canopy continue at historic levels rare plants removal or spread of invasive species no effect may be impacted by multiple ongoing for federally listed plant species may adversely disturbances such as epidemic tree affect individuals but not likely to cause trend disease forest fires forest management toward federal listing or loss of viability for and climate change however the no rocky mountain region sensitive plant species action alternative is not expected to result impacts may be incurred but no loss of viability in added impacts to this resource for plant species of concern range and there would be higher rates of damage to removal of dead trees through harvest or livestock fences in coniferous stands prescribed fire would prolong the life of some management aging shrub and grass stands that are or fences and improve access to watering facilities are becoming dense and decadent would loss of natural livestock barriers may occur provide less forage for livestock than they causing more labor time to herd livestock did at earlier seral stages burned areas may need to be deferred from movement of grazing permittees and livestock use or rested cattle across the range would become increasingly difficult and dangerous noxious weeds noxious weeds would continue to ground disturbance from mechanical vegetation and other increase in coniferous forest stands with treatments and prescribed burns would increase invasive plants high tree mortality due to the increased invasive plant species in the project area project amount of sunlight and water available for design features included in this project reduce understory plants that risk access to inventory and treat weeds in stands with lot of dead and downed trees would be difficult and dangerous hydrology overall watershed conditions in most the risk that overall watershed conditions would watersheds are expected to remain be degraded increases in most watersheds as unchanged as past and current levels of proposed management activities would be at an management activities have not intensity and level that is significantly greater substantially changed overall watershed than past levels of disturbance on the medicine conditions over time overall watershed bow national forest overall watershed conditions in few watersheds may conditions in couple watersheds may also change as result of wildfire activity change as result of wildfire soils overall effects to soils from current in the short term effects to soils from harvest management practices would be similar to operations and prescribed burning would include the modified proposed action in the short erosion compaction rutting and displacement term effects to soils from harvest degradation of the litter layer degradation of operations and prescribed burning would nutrient cycling lack of coarse woody debris include erosion compaction rutting and and spread of invasive weeds these impacts displacement degradation of the litter could be greater than effects from no action due layer lack of coarse woody debris and to the accelerated rate of treatments however spread of invasive weeds the accelerated rate of treatments in the long high severity wildfire could result in an term could help sustain soil resiliency in increased potential for impacts to soils changing climate final environmental impact statement lava project vii»\n",
      "\n"
     ]
    },
    {
     "ename": "IndexError",
     "evalue": "list index out of range",
     "output_type": "error",
     "traceback": [
      "\u001b[0;31m---------------------------------------------------------------------------\u001b[0m",
      "\u001b[0;31mIndexError\u001b[0m                                Traceback (most recent call last)",
      "\u001b[0;32m<ipython-input-17-b6a419e02c6d>\u001b[0m in \u001b[0;36m<module>\u001b[0;34m\u001b[0m\n\u001b[1;32m      5\u001b[0m \u001b[0;31m# Compare and print the second-most-similar document\u001b[0m\u001b[0;34m\u001b[0m\u001b[0;34m\u001b[0m\u001b[0;34m\u001b[0m\u001b[0m\n\u001b[1;32m      6\u001b[0m \u001b[0mprint\u001b[0m\u001b[0;34m(\u001b[0m\u001b[0;34m'Train Document ({}): «{}»\\n'\u001b[0m\u001b[0;34m.\u001b[0m\u001b[0mformat\u001b[0m\u001b[0;34m(\u001b[0m\u001b[0mdoc_id\u001b[0m\u001b[0;34m,\u001b[0m \u001b[0;34m' '\u001b[0m\u001b[0;34m.\u001b[0m\u001b[0mjoin\u001b[0m\u001b[0;34m(\u001b[0m\u001b[0mtrain_corpus\u001b[0m\u001b[0;34m[\u001b[0m\u001b[0mdoc_id\u001b[0m\u001b[0;34m]\u001b[0m\u001b[0;34m.\u001b[0m\u001b[0mwords\u001b[0m\u001b[0;34m)\u001b[0m\u001b[0;34m)\u001b[0m\u001b[0;34m)\u001b[0m\u001b[0;34m\u001b[0m\u001b[0;34m\u001b[0m\u001b[0m\n\u001b[0;32m----> 7\u001b[0;31m \u001b[0msim_id\u001b[0m \u001b[0;34m=\u001b[0m \u001b[0msecond_ranks\u001b[0m\u001b[0;34m[\u001b[0m\u001b[0mdoc_id\u001b[0m\u001b[0;34m]\u001b[0m\u001b[0;34m\u001b[0m\u001b[0;34m\u001b[0m\u001b[0m\n\u001b[0m\u001b[1;32m      8\u001b[0m \u001b[0mprint\u001b[0m\u001b[0;34m(\u001b[0m\u001b[0;34m'Similar Document {}: «{}»\\n'\u001b[0m\u001b[0;34m.\u001b[0m\u001b[0mformat\u001b[0m\u001b[0;34m(\u001b[0m\u001b[0msim_id\u001b[0m\u001b[0;34m,\u001b[0m \u001b[0;34m' '\u001b[0m\u001b[0;34m.\u001b[0m\u001b[0mjoin\u001b[0m\u001b[0;34m(\u001b[0m\u001b[0mtrain_corpus\u001b[0m\u001b[0;34m[\u001b[0m\u001b[0msim_id\u001b[0m\u001b[0;34m[\u001b[0m\u001b[0;36m0\u001b[0m\u001b[0;34m]\u001b[0m\u001b[0;34m]\u001b[0m\u001b[0;34m.\u001b[0m\u001b[0mwords\u001b[0m\u001b[0;34m)\u001b[0m\u001b[0;34m)\u001b[0m\u001b[0;34m)\u001b[0m\u001b[0;34m\u001b[0m\u001b[0;34m\u001b[0m\u001b[0m\n",
      "\u001b[0;31mIndexError\u001b[0m: list index out of range"
     ]
    }
   ],
   "source": [
    "# Pick a random document from the corpus and infer a vector from the model\n",
    "import random\n",
    "doc_id = random.randint(0, len(train_corpus) - 1)\n",
    "\n",
    "# Compare and print the second-most-similar document\n",
    "print('Train Document ({}): «{}»\\n'.format(doc_id, ' '.join(train_corpus[doc_id].words)))\n",
    "sim_id = second_ranks[doc_id]\n",
    "print('Similar Document {}: «{}»\\n'.format(sim_id, ' '.join(train_corpus[sim_id[0]].words)))"
   ]
  },
  {
   "cell_type": "code",
   "execution_count": 22,
   "metadata": {},
   "outputs": [
    {
     "name": "stdout",
     "output_type": "stream",
     "text": [
      "FastText(vocab=1762, size=100, alpha=0.025)\n"
     ]
    }
   ],
   "source": [
    "from gensim.models.fasttext import FastText as FT_gensim\n",
    "from gensim.test.utils import datapath\n",
    "\n",
    "# Set file names for train and test data\n",
    "corpus_file = datapath('lee_background.cor')\n",
    "\n",
    "model_gensim = FT_gensim(size=100)\n",
    "\n",
    "# build the vocabulary\n",
    "model_gensim.build_vocab(corpus_file=corpus_file)\n",
    "\n",
    "# train the model\n",
    "model_gensim.train(\n",
    "    corpus_file=corpus_file, epochs=model_gensim.epochs,\n",
    "    total_examples=model_gensim.corpus_count, total_words=model_gensim.corpus_total_words\n",
    ")\n",
    "\n",
    "print(model_gensim)"
   ]
  },
  {
   "cell_type": "code",
   "execution_count": 26,
   "metadata": {},
   "outputs": [],
   "source": []
  },
  {
   "cell_type": "code",
   "execution_count": 28,
   "metadata": {},
   "outputs": [
    {
     "data": {
      "text/plain": [
       "3543"
      ]
     },
     "execution_count": 28,
     "metadata": {},
     "output_type": "execute_result"
    }
   ],
   "source": [
    "from gensim.utils import simple_preprocess\n",
    "from smart_open import smart_open\n",
    "import os\n",
    "\n",
    "# Create gensim dictionary form a single tet file\n",
    "dictionary = corpora.Dictionary(simple_preprocess(line, deacc=True) for line in open('sample.txt', encoding='utf-8'))\n",
    "\n",
    "# Token to Id map\n",
    "dictionary.token2id\n"
   ]
  },
  {
   "cell_type": "code",
   "execution_count": 23,
   "metadata": {},
   "outputs": [
    {
     "ename": "FileNotFoundError",
     "evalue": "[Errno 2] No such file or directory: '/home/misha/src/fastText-0.1.0/fasttext': '/home/misha/src/fastText-0.1.0/fasttext'",
     "output_type": "error",
     "traceback": [
      "\u001b[0;31m---------------------------------------------------------------------------\u001b[0m",
      "\u001b[0;31mFileNotFoundError\u001b[0m                         Traceback (most recent call last)",
      "\u001b[0;32m<ipython-input-23-0e9bd1221b56>\u001b[0m in \u001b[0;36m<module>\u001b[0;34m\u001b[0m\n\u001b[1;32m      5\u001b[0m \u001b[0;34m\u001b[0m\u001b[0m\n\u001b[1;32m      6\u001b[0m \u001b[0;31m# train the model\u001b[0m\u001b[0;34m\u001b[0m\u001b[0;34m\u001b[0m\u001b[0;34m\u001b[0m\u001b[0m\n\u001b[0;32m----> 7\u001b[0;31m \u001b[0mmodel_wrapper\u001b[0m \u001b[0;34m=\u001b[0m \u001b[0mFT_wrapper\u001b[0m\u001b[0;34m.\u001b[0m\u001b[0mtrain\u001b[0m\u001b[0;34m(\u001b[0m\u001b[0mft_home\u001b[0m\u001b[0;34m,\u001b[0m \u001b[0mcorpus_file\u001b[0m\u001b[0;34m)\u001b[0m\u001b[0;34m\u001b[0m\u001b[0;34m\u001b[0m\u001b[0m\n\u001b[0m\u001b[1;32m      8\u001b[0m \u001b[0;34m\u001b[0m\u001b[0m\n\u001b[1;32m      9\u001b[0m \u001b[0mprint\u001b[0m\u001b[0;34m(\u001b[0m\u001b[0mmodel_wrapper\u001b[0m\u001b[0;34m)\u001b[0m\u001b[0;34m\u001b[0m\u001b[0;34m\u001b[0m\u001b[0m\n",
      "\u001b[0;32m~/opt/anaconda3/lib/python3.7/site-packages/gensim/models/deprecated/fasttext_wrapper.py\u001b[0m in \u001b[0;36mtrain\u001b[0;34m(cls, ft_path, corpus_file, output_file, model, size, alpha, window, min_count, word_ngrams, loss, sample, negative, iter, min_n, max_n, sorted_vocab, threads)\u001b[0m\n\u001b[1;32m    243\u001b[0m             \u001b[0mcmd\u001b[0m\u001b[0;34m.\u001b[0m\u001b[0mappend\u001b[0m\u001b[0;34m(\u001b[0m\u001b[0mstr\u001b[0m\u001b[0;34m(\u001b[0m\u001b[0mvalue\u001b[0m\u001b[0;34m)\u001b[0m\u001b[0;34m)\u001b[0m\u001b[0;34m\u001b[0m\u001b[0;34m\u001b[0m\u001b[0m\n\u001b[1;32m    244\u001b[0m \u001b[0;34m\u001b[0m\u001b[0m\n\u001b[0;32m--> 245\u001b[0;31m         \u001b[0mutils\u001b[0m\u001b[0;34m.\u001b[0m\u001b[0mcheck_output\u001b[0m\u001b[0;34m(\u001b[0m\u001b[0margs\u001b[0m\u001b[0;34m=\u001b[0m\u001b[0mcmd\u001b[0m\u001b[0;34m)\u001b[0m\u001b[0;34m\u001b[0m\u001b[0;34m\u001b[0m\u001b[0m\n\u001b[0m\u001b[1;32m    246\u001b[0m         \u001b[0mmodel\u001b[0m \u001b[0;34m=\u001b[0m \u001b[0mcls\u001b[0m\u001b[0;34m.\u001b[0m\u001b[0mload_fasttext_format\u001b[0m\u001b[0;34m(\u001b[0m\u001b[0moutput_file\u001b[0m\u001b[0;34m)\u001b[0m\u001b[0;34m\u001b[0m\u001b[0;34m\u001b[0m\u001b[0m\n\u001b[1;32m    247\u001b[0m         \u001b[0mcls\u001b[0m\u001b[0;34m.\u001b[0m\u001b[0mdelete_training_files\u001b[0m\u001b[0;34m(\u001b[0m\u001b[0moutput_file\u001b[0m\u001b[0;34m)\u001b[0m\u001b[0;34m\u001b[0m\u001b[0;34m\u001b[0m\u001b[0m\n",
      "\u001b[0;32m~/opt/anaconda3/lib/python3.7/site-packages/gensim/utils.py\u001b[0m in \u001b[0;36mcheck_output\u001b[0;34m(stdout, *popenargs, **kwargs)\u001b[0m\n\u001b[1;32m   1907\u001b[0m     \u001b[0;32mtry\u001b[0m\u001b[0;34m:\u001b[0m\u001b[0;34m\u001b[0m\u001b[0;34m\u001b[0m\u001b[0m\n\u001b[1;32m   1908\u001b[0m         \u001b[0mlogger\u001b[0m\u001b[0;34m.\u001b[0m\u001b[0mdebug\u001b[0m\u001b[0;34m(\u001b[0m\u001b[0;34m\"COMMAND: %s %s\"\u001b[0m\u001b[0;34m,\u001b[0m \u001b[0mpopenargs\u001b[0m\u001b[0;34m,\u001b[0m \u001b[0mkwargs\u001b[0m\u001b[0;34m)\u001b[0m\u001b[0;34m\u001b[0m\u001b[0;34m\u001b[0m\u001b[0m\n\u001b[0;32m-> 1909\u001b[0;31m         \u001b[0mprocess\u001b[0m \u001b[0;34m=\u001b[0m \u001b[0msubprocess\u001b[0m\u001b[0;34m.\u001b[0m\u001b[0mPopen\u001b[0m\u001b[0;34m(\u001b[0m\u001b[0mstdout\u001b[0m\u001b[0;34m=\u001b[0m\u001b[0mstdout\u001b[0m\u001b[0;34m,\u001b[0m \u001b[0;34m*\u001b[0m\u001b[0mpopenargs\u001b[0m\u001b[0;34m,\u001b[0m \u001b[0;34m**\u001b[0m\u001b[0mkwargs\u001b[0m\u001b[0;34m)\u001b[0m\u001b[0;34m\u001b[0m\u001b[0;34m\u001b[0m\u001b[0m\n\u001b[0m\u001b[1;32m   1910\u001b[0m         \u001b[0moutput\u001b[0m\u001b[0;34m,\u001b[0m \u001b[0munused_err\u001b[0m \u001b[0;34m=\u001b[0m \u001b[0mprocess\u001b[0m\u001b[0;34m.\u001b[0m\u001b[0mcommunicate\u001b[0m\u001b[0;34m(\u001b[0m\u001b[0;34m)\u001b[0m\u001b[0;34m\u001b[0m\u001b[0;34m\u001b[0m\u001b[0m\n\u001b[1;32m   1911\u001b[0m         \u001b[0mretcode\u001b[0m \u001b[0;34m=\u001b[0m \u001b[0mprocess\u001b[0m\u001b[0;34m.\u001b[0m\u001b[0mpoll\u001b[0m\u001b[0;34m(\u001b[0m\u001b[0;34m)\u001b[0m\u001b[0;34m\u001b[0m\u001b[0;34m\u001b[0m\u001b[0m\n",
      "\u001b[0;32m~/opt/anaconda3/lib/python3.7/subprocess.py\u001b[0m in \u001b[0;36m__init__\u001b[0;34m(self, args, bufsize, executable, stdin, stdout, stderr, preexec_fn, close_fds, shell, cwd, env, universal_newlines, startupinfo, creationflags, restore_signals, start_new_session, pass_fds, encoding, errors, text)\u001b[0m\n\u001b[1;32m    773\u001b[0m                                 \u001b[0mc2pread\u001b[0m\u001b[0;34m,\u001b[0m \u001b[0mc2pwrite\u001b[0m\u001b[0;34m,\u001b[0m\u001b[0;34m\u001b[0m\u001b[0;34m\u001b[0m\u001b[0m\n\u001b[1;32m    774\u001b[0m                                 \u001b[0merrread\u001b[0m\u001b[0;34m,\u001b[0m \u001b[0merrwrite\u001b[0m\u001b[0;34m,\u001b[0m\u001b[0;34m\u001b[0m\u001b[0;34m\u001b[0m\u001b[0m\n\u001b[0;32m--> 775\u001b[0;31m                                 restore_signals, start_new_session)\n\u001b[0m\u001b[1;32m    776\u001b[0m         \u001b[0;32mexcept\u001b[0m\u001b[0;34m:\u001b[0m\u001b[0;34m\u001b[0m\u001b[0;34m\u001b[0m\u001b[0m\n\u001b[1;32m    777\u001b[0m             \u001b[0;31m# Cleanup if the child failed starting.\u001b[0m\u001b[0;34m\u001b[0m\u001b[0;34m\u001b[0m\u001b[0;34m\u001b[0m\u001b[0m\n",
      "\u001b[0;32m~/opt/anaconda3/lib/python3.7/subprocess.py\u001b[0m in \u001b[0;36m_execute_child\u001b[0;34m(self, args, executable, preexec_fn, close_fds, pass_fds, cwd, env, startupinfo, creationflags, shell, p2cread, p2cwrite, c2pread, c2pwrite, errread, errwrite, restore_signals, start_new_session)\u001b[0m\n\u001b[1;32m   1520\u001b[0m                         \u001b[0;32mif\u001b[0m \u001b[0merrno_num\u001b[0m \u001b[0;34m==\u001b[0m \u001b[0merrno\u001b[0m\u001b[0;34m.\u001b[0m\u001b[0mENOENT\u001b[0m\u001b[0;34m:\u001b[0m\u001b[0;34m\u001b[0m\u001b[0;34m\u001b[0m\u001b[0m\n\u001b[1;32m   1521\u001b[0m                             \u001b[0merr_msg\u001b[0m \u001b[0;34m+=\u001b[0m \u001b[0;34m': '\u001b[0m \u001b[0;34m+\u001b[0m \u001b[0mrepr\u001b[0m\u001b[0;34m(\u001b[0m\u001b[0merr_filename\u001b[0m\u001b[0;34m)\u001b[0m\u001b[0;34m\u001b[0m\u001b[0;34m\u001b[0m\u001b[0m\n\u001b[0;32m-> 1522\u001b[0;31m                     \u001b[0;32mraise\u001b[0m \u001b[0mchild_exception_type\u001b[0m\u001b[0;34m(\u001b[0m\u001b[0merrno_num\u001b[0m\u001b[0;34m,\u001b[0m \u001b[0merr_msg\u001b[0m\u001b[0;34m,\u001b[0m \u001b[0merr_filename\u001b[0m\u001b[0;34m)\u001b[0m\u001b[0;34m\u001b[0m\u001b[0;34m\u001b[0m\u001b[0m\n\u001b[0m\u001b[1;32m   1523\u001b[0m                 \u001b[0;32mraise\u001b[0m \u001b[0mchild_exception_type\u001b[0m\u001b[0;34m(\u001b[0m\u001b[0merr_msg\u001b[0m\u001b[0;34m)\u001b[0m\u001b[0;34m\u001b[0m\u001b[0;34m\u001b[0m\u001b[0m\n\u001b[1;32m   1524\u001b[0m \u001b[0;34m\u001b[0m\u001b[0m\n",
      "\u001b[0;31mFileNotFoundError\u001b[0m: [Errno 2] No such file or directory: '/home/misha/src/fastText-0.1.0/fasttext': '/home/misha/src/fastText-0.1.0/fasttext'"
     ]
    }
   ],
   "source": [
    "from gensim.models.wrappers.fasttext import FastText as FT_wrapper\n",
    "\n",
    "# Set FastText home to the path to the FastText executable\n",
    "ft_home = '/home/misha/src/fastText-0.1.0/fasttext'\n",
    "\n",
    "# train the model\n",
    "model_wrapper = FT_wrapper.train(ft_home, corpus_file)\n",
    "\n",
    "print(model_wrapper)"
   ]
  },
  {
   "cell_type": "code",
   "execution_count": 19,
   "metadata": {},
   "outputs": [
    {
     "ename": "NameError",
     "evalue": "name 'FastText' is not defined",
     "output_type": "error",
     "traceback": [
      "\u001b[0;31m---------------------------------------------------------------------------\u001b[0m",
      "\u001b[0;31mNameError\u001b[0m                                 Traceback (most recent call last)",
      "\u001b[0;32m<ipython-input-19-5a8a94b70720>\u001b[0m in \u001b[0;36m<module>\u001b[0;34m\u001b[0m\n\u001b[0;32m----> 1\u001b[0;31m \u001b[0mmodel\u001b[0m \u001b[0;34m=\u001b[0m \u001b[0mFastText\u001b[0m\u001b[0;34m(\u001b[0m\u001b[0msize\u001b[0m\u001b[0;34m=\u001b[0m\u001b[0;36m4\u001b[0m\u001b[0;34m,\u001b[0m \u001b[0mwindow\u001b[0m\u001b[0;34m=\u001b[0m\u001b[0;36m3\u001b[0m\u001b[0;34m,\u001b[0m \u001b[0mmin_count\u001b[0m\u001b[0;34m=\u001b[0m\u001b[0;36m1\u001b[0m\u001b[0;34m)\u001b[0m  \u001b[0;31m# instantiate\u001b[0m\u001b[0;34m\u001b[0m\u001b[0;34m\u001b[0m\u001b[0m\n\u001b[0m\u001b[1;32m      2\u001b[0m \u001b[0mmodel\u001b[0m\u001b[0;34m.\u001b[0m\u001b[0mbuild_vocab\u001b[0m\u001b[0;34m(\u001b[0m\u001b[0msentences\u001b[0m\u001b[0;34m=\u001b[0m\u001b[0mcommon_texts\u001b[0m\u001b[0;34m)\u001b[0m\u001b[0;34m\u001b[0m\u001b[0;34m\u001b[0m\u001b[0m\n\u001b[1;32m      3\u001b[0m \u001b[0mmodel\u001b[0m\u001b[0;34m.\u001b[0m\u001b[0mtrain\u001b[0m\u001b[0;34m(\u001b[0m\u001b[0msentences\u001b[0m\u001b[0;34m=\u001b[0m\u001b[0mcommon_texts\u001b[0m\u001b[0;34m,\u001b[0m \u001b[0mtotal_examples\u001b[0m\u001b[0;34m=\u001b[0m\u001b[0mlen\u001b[0m\u001b[0;34m(\u001b[0m\u001b[0mcommon_texts\u001b[0m\u001b[0;34m)\u001b[0m\u001b[0;34m,\u001b[0m \u001b[0mepochs\u001b[0m\u001b[0;34m=\u001b[0m\u001b[0;36m10\u001b[0m\u001b[0;34m)\u001b[0m  \u001b[0;31m# train\u001b[0m\u001b[0;34m\u001b[0m\u001b[0;34m\u001b[0m\u001b[0m\n",
      "\u001b[0;31mNameError\u001b[0m: name 'FastText' is not defined"
     ]
    }
   ],
   "source": [
    "model = FastText(size=4, window=3, min_count=1)  # instantiate\n",
    "model.build_vocab(sentences=common_texts)\n",
    "model.train(sentences=common_texts, total_examples=len(common_texts), epochs=10)  # train"
   ]
  }
 ],
 "metadata": {
  "kernelspec": {
   "display_name": "Python 3",
   "language": "python",
   "name": "python3"
  },
  "language_info": {
   "codemirror_mode": {
    "name": "ipython",
    "version": 3
   },
   "file_extension": ".py",
   "mimetype": "text/x-python",
   "name": "python",
   "nbconvert_exporter": "python",
   "pygments_lexer": "ipython3",
   "version": "3.7.6"
  }
 },
 "nbformat": 4,
 "nbformat_minor": 2
}
