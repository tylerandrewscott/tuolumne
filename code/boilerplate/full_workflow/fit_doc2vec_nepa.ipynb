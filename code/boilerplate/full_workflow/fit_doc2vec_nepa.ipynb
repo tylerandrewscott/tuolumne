{
 "cells": [
  {
   "cell_type": "code",
   "execution_count": 1,
   "metadata": {},
   "outputs": [
    {
     "name": "stdout",
     "output_type": "stream",
     "text": [
      "blas_mkl_info:\n",
      "    libraries = ['mkl_rt', 'pthread']\n",
      "    library_dirs = ['/Users/tscott/opt/anaconda3/lib']\n",
      "    define_macros = [('SCIPY_MKL_H', None), ('HAVE_CBLAS', None)]\n",
      "    include_dirs = ['/Users/tscott/opt/anaconda3/include']\n",
      "blas_opt_info:\n",
      "    libraries = ['mkl_rt', 'pthread']\n",
      "    library_dirs = ['/Users/tscott/opt/anaconda3/lib']\n",
      "    define_macros = [('SCIPY_MKL_H', None), ('HAVE_CBLAS', None)]\n",
      "    include_dirs = ['/Users/tscott/opt/anaconda3/include']\n",
      "lapack_mkl_info:\n",
      "    libraries = ['mkl_rt', 'pthread']\n",
      "    library_dirs = ['/Users/tscott/opt/anaconda3/lib']\n",
      "    define_macros = [('SCIPY_MKL_H', None), ('HAVE_CBLAS', None)]\n",
      "    include_dirs = ['/Users/tscott/opt/anaconda3/include']\n",
      "lapack_opt_info:\n",
      "    libraries = ['mkl_rt', 'pthread']\n",
      "    library_dirs = ['/Users/tscott/opt/anaconda3/lib']\n",
      "    define_macros = [('SCIPY_MKL_H', None), ('HAVE_CBLAS', None)]\n",
      "    include_dirs = ['/Users/tscott/opt/anaconda3/include']\n",
      "None\n"
     ]
    }
   ],
   "source": [
    "import numpy\n",
    "print(numpy.show_config())"
   ]
  },
  {
   "cell_type": "code",
   "execution_count": 2,
   "metadata": {},
   "outputs": [],
   "source": [
    "from gensim.test.utils import common_texts"
   ]
  },
  {
   "cell_type": "code",
   "execution_count": 3,
   "metadata": {},
   "outputs": [],
   "source": [
    "from gensim.models.doc2vec import Doc2Vec, TaggedDocument"
   ]
  },
  {
   "cell_type": "code",
   "execution_count": 65,
   "metadata": {},
   "outputs": [],
   "source": [
    "index_dir = os.path.join('../../../scratch/boilerplate/big_text_files')\n",
    "#lee_train_file = os.path.join(test_data_dir, 'big_doe_text_only.txt')\n",
    "doe_meta = pd.read_csv(os.path.join(data_dir, 'big_doe_metadata.txt'),header = None)\n",
    "usfs_meta = pd.read_csv(os.path.join(data_dir, 'big_usfs_metadata.txt'),header = None)\n",
    "blm_meta = pd.read_csv(os.path.join(data_dir, 'big_blm_metadata.txt'),header = None)\n",
    "eis_meta = pd.read_csv(os.path.join(data_dir, 'big_eis_metadata.txt'),header = None)"
   ]
  },
  {
   "cell_type": "code",
   "execution_count": 76,
   "metadata": {},
   "outputs": [],
   "source": [
    "meta_corpus = eis_meta.append(blm_meta).append(doe_meta).append(usfs_meta)"
   ]
  },
  {
   "cell_type": "code",
   "execution_count": 4,
   "metadata": {},
   "outputs": [],
   "source": [
    "import os\n",
    "import gensim\n",
    "# Set file names for train and test data\n",
    "data_dir = os.path.join('../../../scratch/boilerplate/big_text_files')\n",
    "#lee_train_file = os.path.join(test_data_dir, 'big_doe_text_only.txt')\n",
    "doe_file = os.path.join(data_dir, 'big_doe_text_only.txt')\n",
    "usfs_file = os.path.join(data_dir, 'big_usfs_text_only.txt')\n",
    "blm_file = os.path.join(data_dir, 'big_blm_text_only.txt')\n",
    "eis_file = os.path.join(data_dir, 'big_eis_text_only.txt')"
   ]
  },
  {
   "cell_type": "code",
   "execution_count": 5,
   "metadata": {},
   "outputs": [],
   "source": [
    "import smart_open\n",
    "\n",
    "def read_corpus(fname, tokens_only=False,lines_are_documents=True):\n",
    "    with smart_open.open(fname, encoding=\"iso-8859-1\") as f:\n",
    "        for i, line in enumerate(f):\n",
    "            tokens = gensim.utils.simple_preprocess(line)\n",
    "            if tokens_only:\n",
    "                yield tokens\n",
    "            else:\n",
    "                # For training data, add tags\n",
    "                yield gensim.models.doc2vec.TaggedDocument(tokens, [i])\n"
   ]
  },
  {
   "cell_type": "code",
   "execution_count": 6,
   "metadata": {},
   "outputs": [],
   "source": [
    "\n",
    "doe_corpus = list(read_corpus(doe_file))\n",
    "eis_corpus = list(read_corpus(eis_file))\n",
    "usfs_corpus = list(read_corpus(usfs_file))\n",
    "blm_corpus = list(read_corpus(blm_file))\n",
    "train_corpus = doe_corpus + eis_corpus + usfs_corpus + blm_corpus"
   ]
  },
  {
   "cell_type": "code",
   "execution_count": 7,
   "metadata": {},
   "outputs": [],
   "source": [
    "model = gensim.models.doc2vec.Doc2Vec(vector_size=50, min_count=4, epochs=40,seed = 24)\n",
    "model.build_vocab(train_corpus)\n",
    "model.train(train_corpus, total_examples=model.corpus_count, epochs=model.epochs)"
   ]
  },
  {
   "cell_type": "code",
   "execution_count": 8,
   "metadata": {},
   "outputs": [],
   "source": [
    "model.save('nepa_doc2vec_model')"
   ]
  },
  {
   "cell_type": "code",
   "execution_count": 9,
   "metadata": {},
   "outputs": [],
   "source": []
  },
  {
   "cell_type": "code",
   "execution_count": 10,
   "metadata": {},
   "outputs": [],
   "source": [
    "\n",
    "# saving a model trained via Gensim's fastText implementation\n",
    "\n",
    "#loaded_model = FT_gensim.load('saved_model_gensim')\n",
    "#print(loaded_model)\n",
    "\n",
    "# saving a model trained via fastText wrapper\n",
    "#model_wrapper.save('saved_model_wrapper')\n",
    "#loaded_model = FT_wrapper.load('saved_model_wrapper')\n",
    "#print(loaded_model)"
   ]
  },
  {
   "cell_type": "code",
   "execution_count": 78,
   "metadata": {},
   "outputs": [
    {
     "name": "stdout",
     "output_type": "stream",
     "text": [
      "[ 0.30146962  0.47871202  0.3151884  -0.4861505   0.10213748 -0.46538484\n",
      " -0.03540125  0.2057563   0.5080718   0.00606942 -0.20262845  0.41470525\n",
      "  0.23243083 -0.47650027 -0.51098603 -0.27431914  0.0289266   0.13361788\n",
      " -0.21318203 -0.4590563  -0.03388743  0.12671329  0.31285724 -0.87205553\n",
      " -0.1736215  -0.46231928  0.02112862 -0.08940966 -0.04669904 -0.13610679\n",
      " -0.4941648   0.08937789 -0.28161564 -0.47980326 -0.23223089  0.03737691\n",
      " -0.56614333 -0.24798182 -0.53147715  0.1819585   0.08928169  0.00197849\n",
      " -0.3715223  -0.13387935 -0.10676519  0.21515708 -0.16289233  0.17692931\n",
      "  0.1822422  -0.24217623]\n"
     ]
    }
   ],
   "source": [
    "#vector = model.infer_vector(['only', 'you', 'can', 'prevent', 'forest', 'fires'])\n",
    "#print(vector)"
   ]
  }
 ],
 "metadata": {
  "kernelspec": {
   "display_name": "Python 3",
   "language": "python",
   "name": "python3"
  },
  "language_info": {
   "codemirror_mode": {
    "name": "ipython",
    "version": 3
   },
   "file_extension": ".py",
   "mimetype": "text/x-python",
   "name": "python",
   "nbconvert_exporter": "python",
   "pygments_lexer": "ipython3",
   "version": "3.7.6"
  }
 },
 "nbformat": 4,
 "nbformat_minor": 2
}
